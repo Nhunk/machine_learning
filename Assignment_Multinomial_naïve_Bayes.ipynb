{
 "cells": [
  {
   "cell_type": "markdown",
   "metadata": {
    "id": "9hlAjVfsx7Hz"
   },
   "source": [
    "1. Viết câu lệnh đọc file Weater_tv.csv đã cho lưu vào Data\n",
    "\n",
    "\n",
    "\n",
    "\n"
   ]
  },
  {
   "cell_type": "code",
   "execution_count": 5,
   "metadata": {},
   "outputs": [
    {
     "data": {
      "text/html": [
       "<div>\n",
       "<style scoped>\n",
       "    .dataframe tbody tr th:only-of-type {\n",
       "        vertical-align: middle;\n",
       "    }\n",
       "\n",
       "    .dataframe tbody tr th {\n",
       "        vertical-align: top;\n",
       "    }\n",
       "\n",
       "    .dataframe thead th {\n",
       "        text-align: right;\n",
       "    }\n",
       "</style>\n",
       "<table border=\"1\" class=\"dataframe\">\n",
       "  <thead>\n",
       "    <tr style=\"text-align: right;\">\n",
       "      <th></th>\n",
       "      <th>ThoiTiet</th>\n",
       "      <th>NhietDo</th>\n",
       "      <th>DoAm</th>\n",
       "      <th>Gió</th>\n",
       "      <th>class</th>\n",
       "    </tr>\n",
       "  </thead>\n",
       "  <tbody>\n",
       "    <tr>\n",
       "      <th>0</th>\n",
       "      <td>Nang</td>\n",
       "      <td>Nóng</td>\n",
       "      <td>Cao</td>\n",
       "      <td>Yeu</td>\n",
       "      <td>Không</td>\n",
       "    </tr>\n",
       "    <tr>\n",
       "      <th>1</th>\n",
       "      <td>Nang</td>\n",
       "      <td>Nóng</td>\n",
       "      <td>Cao</td>\n",
       "      <td>Manh</td>\n",
       "      <td>Không</td>\n",
       "    </tr>\n",
       "    <tr>\n",
       "      <th>2</th>\n",
       "      <td>NhieuMay</td>\n",
       "      <td>Nóng</td>\n",
       "      <td>Cao</td>\n",
       "      <td>Yeu</td>\n",
       "      <td>Có</td>\n",
       "    </tr>\n",
       "    <tr>\n",
       "      <th>3</th>\n",
       "      <td>Mua</td>\n",
       "      <td>Mát</td>\n",
       "      <td>Cao</td>\n",
       "      <td>Yeu</td>\n",
       "      <td>Có</td>\n",
       "    </tr>\n",
       "    <tr>\n",
       "      <th>4</th>\n",
       "      <td>Mua</td>\n",
       "      <td>Lanh</td>\n",
       "      <td>Thuong</td>\n",
       "      <td>Yeu</td>\n",
       "      <td>Có</td>\n",
       "    </tr>\n",
       "  </tbody>\n",
       "</table>\n",
       "</div>"
      ],
      "text/plain": [
       "   ThoiTiet NhietDo    DoAm   Gió  class\n",
       "0      Nang    Nóng     Cao   Yeu  Không\n",
       "1      Nang    Nóng     Cao  Manh  Không\n",
       "2  NhieuMay    Nóng     Cao   Yeu     Có\n",
       "3       Mua     Mát     Cao   Yeu     Có\n",
       "4       Mua    Lanh  Thuong   Yeu     Có"
      ]
     },
     "execution_count": 5,
     "metadata": {},
     "output_type": "execute_result"
    }
   ],
   "source": [
    "import pandas as pd\n",
    "import numpy as np\n",
    "df = pd.read_csv(\"resources/weather.csv\",encoding = 'latin1')\n",
    "df.head()"
   ]
  },
  {
   "cell_type": "markdown",
   "metadata": {
    "id": "k9JKQkezyTKO"
   },
   "source": [
    "2. Lọc lấy cột nhãn, xác định các loại nhãn và số lượng cho mỗi loại (Gợi ý: dùng np.unique)"
   ]
  },
  {
   "cell_type": "code",
   "execution_count": 7,
   "metadata": {},
   "outputs": [
    {
     "name": "stdout",
     "output_type": "stream",
     "text": [
      "['Có' 'Không']\n",
      "[9 5]\n"
     ]
    }
   ],
   "source": [
    "label,count=np.unique(df['class'],return_counts=True)\n",
    "print(label)\n",
    "print(count)"
   ]
  },
  {
   "cell_type": "markdown",
   "metadata": {
    "id": "2Qs3yzaVy0YO"
   },
   "source": [
    "3. Viết câu lệnh lọc dữ liệu thành hai bộ theo nhãn."
   ]
  },
  {
   "cell_type": "code",
   "execution_count": 32,
   "metadata": {},
   "outputs": [
    {
     "name": "stdout",
     "output_type": "stream",
     "text": [
      "    ThoiTiet NhietDo    DoAm   Gió class\n",
      "2   NhieuMay    Nóng     Cao   Yeu    Có\n",
      "3        Mua     Mát     Cao   Yeu    Có\n",
      "4        Mua    Lanh  Thuong   Yeu    Có\n",
      "6   NhieuMay    Lanh  Thuong  Manh    Có\n",
      "8       Nang    Lanh  Thuong   Yeu    Có\n",
      "9        Mua    Lanh  Thuong   Yeu    Có\n",
      "10       Mua     Mát  Thuong  Manh    Có\n",
      "11  NhieuMay     Mát     Cao  Manh    Có\n",
      "12  NhieuMay    Nóng  Thuong   Yeu    Có\n",
      "   ThoiTiet NhietDo    DoAm   Gió  class\n",
      "0      Nang    Nóng     Cao   Yeu  Không\n",
      "1      Nang    Nóng     Cao  Manh  Không\n",
      "5       Mua    Lanh  Thuong  Manh  Không\n",
      "7      Nang     Mát     Cao   Yeu  Không\n",
      "13      Mua     Mát     Cao  Manh  Không\n"
     ]
    }
   ],
   "source": [
    "yes=df[df.iloc[:,-1]=='Có']\n",
    "no = df[df.iloc[:,-1]=='Không']\n",
    "print(yes)\n",
    "print(no)\n"
   ]
  },
  {
   "cell_type": "markdown",
   "metadata": {
    "id": "DYrpVXXtzJOa"
   },
   "source": [
    "4. Viết câu lệnh lọc lấy cột thời tiết trong Data. Tính xác suất theo Nắng, Mưa, và Nhiều mây."
   ]
  },
  {
   "cell_type": "code",
   "execution_count": null,
   "metadata": {},
   "outputs": [
    {
     "name": "stdout",
     "output_type": "stream",
     "text": [
      "2     NhieuMay\n",
      "3          Mua\n",
      "4          Mua\n",
      "6     NhieuMay\n",
      "8         Nang\n",
      "9          Mua\n",
      "10         Mua\n",
      "11    NhieuMay\n",
      "12    NhieuMay\n",
      "Name: ThoiTiet, dtype: object\n",
      "0     Nang\n",
      "1     Nang\n",
      "5      Mua\n",
      "7     Nang\n",
      "13     Mua\n",
      "Name: ThoiTiet, dtype: object\n"
     ]
    }
   ],
   "source": [
    "weather1=yes['ThoiTiet']\n",
    "weather2=no['ThoiTiet']\n",
    "\n",
    "print(weather1)\n",
    "print(weather2)"
   ]
  },
  {
   "cell_type": "code",
   "execution_count": 34,
   "metadata": {},
   "outputs": [
    {
     "name": "stdout",
     "output_type": "stream",
     "text": [
      "[0.4444444444444444, 0.1111111111111111, 0.4444444444444444]\n",
      "[0.4, 0.6]\n"
     ]
    }
   ],
   "source": [
    "weather_l1,count_l1=np.unique(weather1,return_counts=True)\n",
    "xs_w1=[count_l1[i]/len(weather1) for i in range(len(weather_l1))]\n",
    "\n",
    "weather_l2,count_l2=np.unique(weather2,return_counts=True)\n",
    "xs_w2=[count_l2[i]/len(weather2) for i in range(len(weather_l2))]\n",
    "print(xs_w1)\n",
    "print(xs_w2)"
   ]
  },
  {
   "cell_type": "markdown",
   "metadata": {
    "id": "O9eS_N4Yz43b"
   },
   "source": [
    "5. Tạo ra một điểm dữ liệu mới. D=x=['Nhiềumây','Lạnh','Cao','Mạnh']. Dựa theo công thức Bayes. Tính xác suất của D theo co và theo khong. So sánh kết quả để chọn lớp cho D."
   ]
  },
  {
   "cell_type": "code",
   "execution_count": 45,
   "metadata": {},
   "outputs": [
    {
     "name": "stdout",
     "output_type": "stream",
     "text": [
      "[0.11505588 0.14403292]\n",
      "Không\n"
     ]
    }
   ],
   "source": [
    "D = ['NhieuMay','Lanh','Cao','Manh']\n",
    "df1=df.iloc[:,-1]\n",
    "label,count=np.unique(df1,return_counts=True)\n",
    "get_l=np.zeros((len(label)))\n",
    "inter = 0\n",
    "for i in label:\n",
    "    data = df[df.iloc[:,-1]==i]\n",
    "    s = 1\n",
    "    for j in range(len(D)):\n",
    "        values,counts = np.unique(df.iloc[:,j],return_counts=True)\n",
    "        for k in range(len(values)):\n",
    "            if D[j].isdigit():\n",
    "                print()\n",
    "            else:\n",
    "                if D[j]==values[k]:\n",
    "                    break\n",
    "            s*=(counts[k]+1)/(count[inter]+len(D))\n",
    "    get_l[inter]=s*(count[inter]+1)/(sum(count)+len(D))\n",
    "    inter+=1\n",
    "print(get_l)\n",
    "print(label[np.argmax(get_l)])"
   ]
  },
  {
   "cell_type": "markdown",
   "metadata": {
    "id": "bq3eE3Nl0YJh"
   },
   "source": [
    "6. Viết lại câu 5 thành hàm để có thể dự đoán cho nhiều điểm dữ liệu khác nhau"
   ]
  },
  {
   "cell_type": "code",
   "execution_count": 50,
   "metadata": {},
   "outputs": [],
   "source": [
    "def bayes_function(data,D):\n",
    "    label_values,label_counts=np.unique(data,return_counts=True)\n",
    "    get_label=np.zeros((len(label_values)))\n",
    "    inter = 0\n",
    "    for Class in label_values:\n",
    "        subdata = data[data.iloc[:,-1]== Class]\n",
    "        for row in range(len(D)):\n",
    "            s=1\n",
    "            for k in range(len(D)):\n",
    "                column = list(subdata.iloc[:,k]) # Chuyen sang list de lay so luong thay vi dung unique\n",
    "                count = column.count(D[row,k])\n",
    "                s*=(counts[k]+1)/(count[inter]+len(D))\n",
    "            get_label[inter,row]=s*label_counts[inter]/(sum(label_counts))\n",
    "        inter+=1\n",
    "    print(get_l)\n",
    "    print(label_values[np.argmax(get_label,axis=0)])\n",
    "D=np.array([['NhieuMay','Lanh','Cao','Manh'],\n",
    "           ['Nang','Lanh','Thuong','Yeu'],\n",
    "           ['Mua','Nóng','Cao','Yeu'],\n",
    "           ['NhieuMay','Mát','Thuong','Manh']])"
   ]
  },
  {
   "cell_type": "code",
   "execution_count": 51,
   "metadata": {},
   "outputs": [
    {
     "name": "stdout",
     "output_type": "stream",
     "text": [
      "[[2.33418531e-04 2.33418531e-04 3.89030885e-04 1.94515443e-05]\n",
      " [7.62078951e-04 7.62078951e-04 7.62078951e-04 5.08052634e-05]]\n"
     ]
    },
    {
     "data": {
      "text/plain": [
       "array(['Không', 'Không', 'Không', 'Không'], dtype=object)"
      ]
     },
     "execution_count": 51,
     "metadata": {},
     "output_type": "execute_result"
    }
   ],
   "source": [
    "x=np.array([['Nắng','Nóng','Cao','Yếu'],\n",
    "\n",
    "            ['Nhiềumây','Nóng','Cao','Yếu'],\n",
    "\n",
    "            ['Mưa','Mát','Cao','Yếu'],\n",
    "\n",
    "           ['Nhiềumây','Lạnh','Thường','Mạnh']])\n",
    "dataset=pd.read_csv(\"resources/weather_tv.csv\",encoding = 'latin1')\n",
    "\n",
    "label=dataset.iloc[:,-1]\n",
    "\n",
    "label_values,label_counts=np.unique(label,return_counts=True)\n",
    "\n",
    "get_label=np.zeros((len(label_values),len(x)))\n",
    "\n",
    "i=0\n",
    "\n",
    "for Class in label_values:\n",
    "\n",
    "    subdata=dataset[dataset.iloc[:,-1]==Class]\n",
    "\n",
    "    for row_x in range(x.shape[0]):\n",
    "\n",
    "        s=1\n",
    "\n",
    "        for j in range(len(x)):\n",
    "\n",
    "            column=list(subdata.iloc[:,j])\n",
    "\n",
    "            count=column.count(x[row_x,j])\n",
    "\n",
    "            s *=(count+1)/(label_counts[i]+len(x))\n",
    "\n",
    "        get_label[i,row_x]=s*(label_counts[i]+1)/(sum(label_counts)+len(x))\n",
    "\n",
    "    i=i+1\n",
    "\n",
    "print(get_label)\n",
    "\n",
    "label_values[np.argmax(get_label,axis=0)]\n",
    "\n",
    "#get_label"
   ]
  },
  {
   "cell_type": "markdown",
   "metadata": {
    "id": "8tK0NKry1OSq"
   },
   "source": [
    "Sinh viên có thể tham khảo đoạn code bên dưới."
   ]
  },
  {
   "cell_type": "code",
   "execution_count": 39,
   "metadata": {
    "id": "akUYx_2_R0_8",
    "outputId": "a8aad4e6-2175-4817-dded-c640068dead9"
   },
   "outputs": [
    {
     "name": "stdout",
     "output_type": "stream",
     "text": [
      "[0.00135155 0.01536702]\n"
     ]
    },
    {
     "data": {
      "text/plain": [
       "'Không'"
      ]
     },
     "execution_count": 39,
     "metadata": {},
     "output_type": "execute_result"
    }
   ],
   "source": [
    "#x=['Nắng','Nóng','Cao','Yếu']\n",
    "x=['Nhiềumây','Lạnh','Cao','Mạnh']\n",
    "label=df.iloc[:,-1]\n",
    "label_values,label_counts=np.unique(label,return_counts=True)\n",
    "get_label=np.zeros((len(label_values)))\n",
    "inters=0\n",
    "for i in label_values:\n",
    "    subdata=df[df.iloc[:,-1]==i]\n",
    "    s=1\n",
    "    for j in range(len(x)):\n",
    "        values,counts=np.unique(df.iloc[:,j],return_counts=True)\n",
    "        for k in range(len(values)):\n",
    "            if x[j].isdigit():\n",
    "                print()\n",
    "            else:\n",
    "                if x[j]==values[k]:\n",
    "                    break\n",
    "            s *=(counts[k]+1)/(label_counts[inters]+len(x))\n",
    "    get_label[inters]=s*(label_counts[inters]+1)/(sum(label_counts)+len(x))\n",
    "    inters=inters+1\n",
    "print(get_label)\n",
    "label_values[np.argmax(get_label)]\n",
    "#get_label\n",
    "        "
   ]
  },
  {
   "cell_type": "code",
   "execution_count": null,
   "metadata": {},
   "outputs": [],
   "source": []
  }
 ],
 "metadata": {
  "colab": {
   "provenance": []
  },
  "kernelspec": {
   "display_name": "Python 3",
   "language": "python",
   "name": "python3"
  },
  "language_info": {
   "codemirror_mode": {
    "name": "ipython",
    "version": 3
   },
   "file_extension": ".py",
   "mimetype": "text/x-python",
   "name": "python",
   "nbconvert_exporter": "python",
   "pygments_lexer": "ipython3",
   "version": "3.12.3"
  }
 },
 "nbformat": 4,
 "nbformat_minor": 0
}
