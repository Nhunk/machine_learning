{
 "cells": [
  {
   "cell_type": "code",
   "execution_count": 1,
   "metadata": {},
   "outputs": [],
   "source": [
    "def predict_sales(X, m, b):\n",
    "    return m*X +b"
   ]
  },
  {
   "cell_type": "code",
   "execution_count": 2,
   "metadata": {},
   "outputs": [],
   "source": [
    "def cos_function(X, y, m, b):\n",
    "    n =len(X)\n",
    "    total = 0.0\n",
    "    for i in range(n):\n",
    "        total  += (y[i]-(m*X[i]+ b))**2\n",
    "    return total / n"
   ]
  },
  {
   "cell_type": "code",
   "execution_count": null,
   "metadata": {},
   "outputs": [],
   "source": [
    "def update_w(X, y, m, b, delta): #delta là learning rate\n",
    "    m1=0\n",
    "    b1=0\n",
    "    n=len(X)\n",
    "    for i in range(n):\n",
    "        m1 += -2*X[i] * (y[i] - (m*X[i] + b))\n",
    "        b1 += -2*(y[i] - (m*X[i] + b))\n",
    "    m -= (m1 / n) * delta\n",
    "    b -= (b1 / n) * delta\n",
    "    return m, b \n"
   ]
  },
  {
   "cell_type": "code",
   "execution_count": 1,
   "metadata": {},
   "outputs": [],
   "source": [
    "def train(X, y, m, b, delta, iters):\n",
    "    cost_history =[]\n",
    "    for i in range(iters):\n",
    "        m, b=update_w(X, y, m, b, delta)\n",
    "        cost = cos_function(X, y, m, b)\n",
    "        cost_history.append(cost)\n",
    "        if i%10 == 0:\n",
    "            print(\"iter={:d} weight={:.2f}    bias={:.4f} cost={:.2}\".format(i, m, b, cost))\n",
    "    return m, b, cost_history\n"
   ]
  },
  {
   "cell_type": "code",
   "execution_count": null,
   "metadata": {},
   "outputs": [],
   "source": [
    "import numpy as np\n",
    "import "
   ]
  }
 ],
 "metadata": {
  "kernelspec": {
   "display_name": "Python 3",
   "language": "python",
   "name": "python3"
  },
  "language_info": {
   "codemirror_mode": {
    "name": "ipython",
    "version": 3
   },
   "file_extension": ".py",
   "mimetype": "text/x-python",
   "name": "python",
   "nbconvert_exporter": "python",
   "pygments_lexer": "ipython3",
   "version": "3.12.3"
  }
 },
 "nbformat": 4,
 "nbformat_minor": 2
}
