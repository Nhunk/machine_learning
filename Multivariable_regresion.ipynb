{
 "cells": [
  {
   "cell_type": "code",
   "execution_count": 2,
   "metadata": {
    "id": "vSwCzMIhEfpO"
   },
   "outputs": [],
   "source": [
    "import numpy as np\n",
    "import pandas as pd\n",
    "%matplotlib inline\n",
    "import matplotlib.pyplot as plt\n",
    "\n",
    "Dataset = pd.read_csv(r\"F:\\study\\HK1_3_2425\\DS321_MachineLearning1\\resources\\Adv.csv\",header = None )\n",
    "X=Dataset.drop(columns=Dataset.shape[1]-1)\n",
    "y = Dataset.iloc[:,Dataset.shape[1]-1]\n",
    "#one = np.ones((X.shape(0),1))\n",
    "#X=np.concentate((one,X),axis=1)\n",
    "X=pd.concat([pd.Series(1,index=X.index,name=\"Dung\"),X],axis=1)\n",
    "#X=np.hstack((np.ones((X.shape[0],1)),X))\n",
    "N,d=X.shape\n",
    "theta = np.array([0.1]*d)#Output: array([0, 0, 0])\n",
    "\n",
    "for i in range(0, d-1):\n",
    "    X[i] = X[i]/np.max(X[i])\n",
    "def multi_theta_X(theta, X):\n",
    "    return theta*X\n",
    "\n",
    "def cost_function(X, y, theta):\n",
    "    y1 = multi_theta_X(theta, X)\n",
    "    y1=np.sum(y1, axis=1)\n",
    "    return sum((y1-y)**2)/(2*N)\n",
    "\n",
    "def train(X, y, theta, learning_rate, iters):\n",
    "    cost_history = []  #cost function in each iterations\n",
    "    for k in range(iters):\n",
    "        y1 = multi_theta_X(theta, X)\n",
    "        y1 = np.sum(y1, axis=1)\n",
    "        for c in range(0, d):\n",
    "            theta[c] = theta[c] - learning_rate*(sum((y1-y)*X.iloc[:,c])/N)\n",
    "        cost = cost_function(X, y, theta)\n",
    "        cost_history.append(cost)\n",
    "    return cost_history, cost, theta"
   ]
  },
  {
   "cell_type": "code",
   "execution_count": 3,
   "metadata": {
    "colab": {
     "base_uri": "https://localhost:8080/",
     "height": 447
    },
    "id": "NTBp7AfWEghk",
    "outputId": "d55f47f9-dd4f-49c4-d64e-2a2d7b361872"
   },
   "outputs": [
    {
     "data": {
      "text/plain": [
       "<Figure size 640x480 with 0 Axes>"
      ]
     },
     "metadata": {},
     "output_type": "display_data"
    },
    {
     "data": {
      "image/png": "[encoded data removed]",
      "text/plain": [
       "<Figure size 640x480 with 1 Axes>"
      ]
     },
     "metadata": {},
     "output_type": "display_data"
    }
   ],
   "source": [
    "iters=100\n",
    "cost_history, cost, theta = train(X, y, theta, 0.05, iters)\n",
    "y_hat = multi_theta_X(theta, X)\n",
    "y_hat = np.sum(y_hat, axis=1)\n",
    "plt.figure()\n",
    "#plt.scatter(x=list(range(0, N)),y= y, color='red')\n",
    "#plt.scatter(x=list(range(0, N)), y=y_hat, color='black')\n",
    "#plt.show()\n",
    "plt.figure()\n",
    "plt.scatter(x=list(range(0, iters)), y=cost_history,color='red')\n",
    "plt.show()"
   ]
  }
 ],
 "metadata": {
  "colab": {
   "provenance": []
  },
  "kernelspec": {
   "display_name": "Python 3",
   "name": "python3"
  },
  "language_info": {
   "codemirror_mode": {
    "name": "ipython",
    "version": 3
   },
   "file_extension": ".py",
   "mimetype": "text/x-python",
   "name": "python",
   "nbconvert_exporter": "python",
   "pygments_lexer": "ipython3",
   "version": "3.12.3"
  }
 },
 "nbformat": 4,
 "nbformat_minor": 0
}
