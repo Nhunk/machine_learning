{
 "cells": [
  {
   "cell_type": "markdown",
   "metadata": {
    "id": "VlSB1-tCve0Y"
   },
   "source": [
    "Tạo ma trận A=[[1,4,2],\n",
    "              [2,3,4],\n",
    "              [7,5,1]]\n"
   ]
  },
  {
   "cell_type": "markdown",
   "metadata": {
    "id": "9koSP3J06XaJ"
   },
   "source": [
    "1.1.\tViết câu lệnh để tìm MAX theo cột của A. Kết qua như sau: [[7 5 4]]"
   ]
  },
  {
   "cell_type": "code",
   "execution_count": null,
   "metadata": {
    "id": "94Ko7bpG6bWZ"
   },
   "outputs": [],
   "source": [
    "import numpy as np\n",
    "a=np.array([[1,4,2], [2,3,4], [7,5,1]])\n",
    "a"
   ]
  },
  {
   "cell_type": "markdown",
   "metadata": {
    "id": "fmJQP5y46bvJ"
   },
   "source": [
    "1.2.\tViết cây lệnh để tìm MIN theo cột của A. Kết quả là: "
   ]
  },
  {
   "cell_type": "code",
   "execution_count": null,
   "metadata": {
    "id": "trNQ-jjh6jWI"
   },
   "outputs": [],
   "source": []
  },
  {
   "cell_type": "code",
   "execution_count": null,
   "metadata": {},
   "outputs": [],
   "source": []
  },
  {
   "cell_type": "markdown",
   "metadata": {
    "id": "UTvT6nZR6sCI"
   },
   "source": [
    "1.3 Viết câu lệnh để in ra vị trí lớn nhất trên mỗi hàng"
   ]
  },
  {
   "cell_type": "code",
   "execution_count": null,
   "metadata": {
    "id": "tkNkgEnE6pDH"
   },
   "outputs": [],
   "source": []
  },
  {
   "cell_type": "markdown",
   "metadata": {
    "id": "ncVd8BUu63Qf"
   },
   "source": [
    "1.4. In ra dòng thứ 2"
   ]
  },
  {
   "cell_type": "code",
   "execution_count": null,
   "metadata": {
    "id": "BFYYqFGBAve0"
   },
   "outputs": [],
   "source": []
  },
  {
   "cell_type": "markdown",
   "metadata": {
    "id": "pyOIIT5bBMkS"
   },
   "source": [
    "1.5. In ra cột thứ nhất và cột thứ nhì"
   ]
  },
  {
   "cell_type": "code",
   "execution_count": null,
   "metadata": {
    "id": "YOYzIF8eBGFe"
   },
   "outputs": [],
   "source": []
  },
  {
   "cell_type": "markdown",
   "metadata": {
    "id": "u-0BFdVEBlKO"
   },
   "source": [
    "1.6. So sánh giá trị ở dòng 0 và dòng số 1"
   ]
  },
  {
   "cell_type": "code",
   "execution_count": null,
   "metadata": {
    "colab": {
     "base_uri": "https://localhost:8080/"
    },
    "id": "GHsD8wRkBsRz",
    "outputId": "60f5161c-2a75-4bee-e296-c04951949e1d"
   },
   "outputs": [
    {
     "data": {
      "text/plain": [
       "True"
      ]
     },
     "execution_count": 3,
     "metadata": {},
     "output_type": "execute_result"
    }
   ],
   "source": [
    "import numpy as np\n",
    "aa=np.array([1,2,3])\n",
    "bb=np.array([1,2,3])\n",
    "np.array_equal(aa,bb)"
   ]
  },
  {
   "cell_type": "markdown",
   "metadata": {
    "id": "5imvDpPfBrey"
   },
   "source": [
    "1.7. Tính tổng theo mỗi hàng trong trong ma trận A"
   ]
  },
  {
   "cell_type": "markdown",
   "metadata": {
    "id": "fILuKERSF1OY"
   },
   "source": [
    "1.8. Viết câu lệnh hiển thị kích thước ma trận A"
   ]
  },
  {
   "cell_type": "markdown",
   "metadata": {
    "id": "nqo7IOavI2rI"
   },
   "source": [
    "1.9. x = np.array([[1, 3], [4, 4], [4, 2]]) chuyển x qua ma trận có kích thước (2x3)"
   ]
  },
  {
   "cell_type": "code",
   "execution_count": null,
   "metadata": {
    "colab": {
     "base_uri": "https://localhost:8080/"
    },
    "id": "igeV6uf-JN1P",
    "outputId": "4c136602-ecc3-4333-c662-884c0688786c"
   },
   "outputs": [
    {
     "data": {
      "text/plain": [
       "array([[0, 1],\n",
       "       [2, 3],\n",
       "       [4, 5],\n",
       "       [6, 7]])"
      ]
     },
     "execution_count": 39,
     "metadata": {},
     "output_type": "execute_result"
    }
   ],
   "source": []
  },
  {
   "cell_type": "markdown",
   "metadata": {
    "id": "geB7QGxFJMgv"
   },
   "source": [
    "1.10. Viết câu lệnh để nhân các phần tử của x và y tương ứng với nhau\n",
    "x=np.array([[1, 2, 3], [1, 3, 4]])\n",
    "y = np.array([[0, 3, 1], [4, 1, 1]]) "
   ]
  },
  {
   "cell_type": "code",
   "execution_count": null,
   "metadata": {
    "id": "UBI99Y-wKWQQ"
   },
   "outputs": [],
   "source": []
  },
  {
   "cell_type": "markdown",
   "metadata": {
    "id": "UnJdMJ4NKWmQ"
   },
   "source": [
    "1.11. Viết câu lệnh để nhân hai ma trận với nhau\n",
    "x = np.array([[1, 2], [1, 0]])\n",
    "y = np.array([[0, 3, 1], [1, 3, 0]])"
   ]
  },
  {
   "cell_type": "code",
   "execution_count": null,
   "metadata": {
    "id": "PQAbHru1K3Q3"
   },
   "outputs": [],
   "source": []
  },
  {
   "cell_type": "markdown",
   "metadata": {
    "id": "jF_VCa5jK3ou"
   },
   "source": [
    "1.12. Tạo ma trận zero có số chiều là 2x3"
   ]
  },
  {
   "cell_type": "code",
   "execution_count": null,
   "metadata": {
    "colab": {
     "base_uri": "https://localhost:8080/"
    },
    "id": "FpiAAgd1hjOQ",
    "outputId": "fc61a7dd-58d7-4a8f-bac5-df21899d506b"
   },
   "outputs": [
    {
     "data": {
      "text/plain": [
       "array([[1., 1.]])"
      ]
     },
     "execution_count": 72,
     "metadata": {},
     "output_type": "execute_result"
    }
   ],
   "source": [
    "tt1=np.ones((1,2))\n",
    "tt1"
   ]
  },
  {
   "cell_type": "markdown",
   "metadata": {
    "id": "PTDG7rzQLFix"
   },
   "source": [
    "1.13. Tạo ma trận có số chiều 3x4 với các số ngẫu nhiên.\n",
    "Dùng hàm randn trong numpy"
   ]
  },
  {
   "cell_type": "code",
   "execution_count": null,
   "metadata": {
    "id": "Dm1AcFEFLTvX"
   },
   "outputs": [],
   "source": []
  },
  {
   "cell_type": "markdown",
   "metadata": {
    "id": "Q1oDt9YfLR1v"
   },
   "source": [
    "1.14. Tạo ra dãy số ngẫu nhiên không trùng lặp từ 1 đến n. Với n cho trước. \n",
    "Gợi ý: Dùng hàm permutation trong numpy"
   ]
  },
  {
   "cell_type": "code",
   "execution_count": null,
   "metadata": {
    "colab": {
     "base_uri": "https://localhost:8080/"
    },
    "id": "NAeRmdpsNSua",
    "outputId": "725cb725-8873-44d0-b13b-6630850cacae"
   },
   "outputs": [
    {
     "data": {
      "text/plain": [
       "array([2, 6, 8, 7, 4, 0, 9, 1, 3, 5])"
      ]
     },
     "execution_count": 30,
     "metadata": {},
     "output_type": "execute_result"
    }
   ],
   "source": []
  },
  {
   "cell_type": "markdown",
   "metadata": {
    "id": "iPOwxZhtSyk_"
   },
   "source": [
    "1.15. Viết câu lệnh để tạo ma trân 3 hàng 1 cột.\n",
    "Gợi ý: Dùng hàm ones."
   ]
  },
  {
   "cell_type": "code",
   "execution_count": null,
   "metadata": {
    "id": "IVfnP8ocTDjx"
   },
   "outputs": [],
   "source": []
  },
  {
   "cell_type": "markdown",
   "metadata": {
    "id": "S-xwGJ7mRrnG"
   },
   "source": [
    "1.16. Chèn thêm cột chứa các số 1 vào ma trận A ở trên.\n",
    "Gợi ý: Dùng hàm vstack hoặc dùng concatenate/hstack trong numpy"
   ]
  },
  {
   "cell_type": "markdown",
   "metadata": {
    "id": "R3sdj_3-3cZz"
   },
   "source": [
    "1.17. Các câu lệnh để tính tổng, tìm max các phần tử trên đường chéo chính của ma trận A. \n",
    "Gợi ý: Dùng diagonal"
   ]
  },
  {
   "cell_type": "code",
   "execution_count": null,
   "metadata": {
    "id": "UoPt_0FwlUmi"
   },
   "outputs": [],
   "source": [
    "a"
   ]
  },
  {
   "cell_type": "markdown",
   "metadata": {
    "id": "gXa0iYCx4O7N"
   },
   "source": [
    "1.18. Cho vector sau: y_pred = np.array([0, 1, 0, 2, 1, 1, 0, 2, 1, 2]) Viết câu lệnh để cho biết có bao nhiêu giá trị và số lần xuất hiện của nó. \n",
    "Gợi ý: Dùng unique với return_counts=True\n"
   ]
  },
  {
   "cell_type": "markdown",
   "metadata": {
    "id": "JjcVR6_641eM"
   },
   "source": [
    "1.19. Cho kết quả dự đoán và kết quả thực tế như sau:\n",
    "y_true = np.array([0, 0, 0, 0, 1, 1, 1, 2, 2, 2])\n",
    "y_pred = np.array([0, 1, 0, 2, 1, 1, 0, 2, 1, 2])\n",
    "Viết hàm đánh giá tỉ lệ phần trăm đoán đúng."
   ]
  },
  {
   "cell_type": "markdown",
   "metadata": {
    "id": "GLxk_pOn5IYE"
   },
   "source": [
    "1.20. Cho kết quả dự đoán và kết quả thực tế như sau: y_true = np.array([0, 0, 0, 0, 1, 1, 1, 2, 2, 2]) y_pred = np.array([0, 1, 0, 2, 1, 1, 0, 2, 1, 2])\n",
    "Viết câu lệnh để tạo ra ma trận Confusion matrix để đánh giá mô hình\n",
    "Gợi ý: Dùng vòng lặp sau:\n",
    "  for n in range(y_true.shape[0]):\n",
    "        cm[y_true[n], y_pred[n]] += 1\n"
   ]
  }
 ],
 "metadata": {
  "colab": {
   "collapsed_sections": [],
   "name": "Review_Numpy_Student.ipynb",
   "provenance": []
  },
  "kernelspec": {
   "display_name": "Python 3",
   "name": "python3"
  },
  "language_info": {
   "codemirror_mode": {
    "name": "ipython",
    "version": 3
   },
   "file_extension": ".py",
   "mimetype": "text/x-python",
   "name": "python",
   "nbconvert_exporter": "python",
   "pygments_lexer": "ipython3",
   "version": "3.12.3"
  }
 },
 "nbformat": 4,
 "nbformat_minor": 0
}
