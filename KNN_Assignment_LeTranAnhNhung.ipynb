{
  "cells": [
    {
      "cell_type": "markdown",
      "source": [],
      "metadata": {
        "id": "yWFain7JcTg1"
      }
    },
    {
      "cell_type": "markdown",
      "metadata": {
        "id": "dIsLX6j6ftdG"
      },
      "source": [
        "Cho ma trận M và một điểm P\n",
        "\n",
        "M=np.array([[200, 10, 1],\n",
        "            [2000, 10, 1],\n",
        "           [10, 2000, 0],\n",
        "           [300, 10, 1],\n",
        "           [400, 2000, 0],\n",
        "           [20, 2000, 0],\n",
        "            [10, 1000, 0],\n",
        "            [300, 10, 1],\n",
        "            [5, 300, 0],\n",
        "            [2, 200, 0]])\n",
        "P=np.array([200,10])"
      ]
    },
    {
      "cell_type": "code",
      "source": [
        "import numpy as np\n",
        "import pandas as pd\n",
        "M=np.array([[200, 10, 1], [2000, 10, 1], [10, 2000, 0], [300, 10, 1], [400, 2000, 0], [20, 2000, 0], [10, 1000, 0], [300, 10, 1], [5, 300, 0], [2, 200, 0]])\n",
        "P=np.array([200,10])"
      ],
      "metadata": {
        "id": "Ub5U9dFga_x6"
      },
      "execution_count": 38,
      "outputs": []
    },
    {
      "cell_type": "markdown",
      "metadata": {
        "id": "Pk2i9rWtf691"
      },
      "source": [
        "1. Viết hàm thêm cột số 0 vào trước ma trận M"
      ]
    },
    {
      "cell_type": "code",
      "source": [
        "def add_column(M):\n",
        "    M_new = np.hstack((np.zeros((M.shape[0], 1)),M))\n",
        "    return M_new\n",
        "M = add_column(M)\n",
        "M"
      ],
      "metadata": {
        "id": "eIoyotVqaMDY",
        "colab": {
          "base_uri": "https://localhost:8080/"
        },
        "outputId": "4811f960-96ca-4623-ab5a-9717179741bb"
      },
      "execution_count": 24,
      "outputs": [
        {
          "output_type": "execute_result",
          "data": {
            "text/plain": [
              "array([[0.e+00, 2.e+02, 1.e+01, 1.e+00],\n",
              "       [0.e+00, 2.e+03, 1.e+01, 1.e+00],\n",
              "       [0.e+00, 1.e+01, 2.e+03, 0.e+00],\n",
              "       [0.e+00, 3.e+02, 1.e+01, 1.e+00],\n",
              "       [0.e+00, 4.e+02, 2.e+03, 0.e+00],\n",
              "       [0.e+00, 2.e+01, 2.e+03, 0.e+00],\n",
              "       [0.e+00, 1.e+01, 1.e+03, 0.e+00],\n",
              "       [0.e+00, 3.e+02, 1.e+01, 1.e+00],\n",
              "       [0.e+00, 5.e+00, 3.e+02, 0.e+00],\n",
              "       [0.e+00, 2.e+00, 2.e+02, 0.e+00]])"
            ]
          },
          "metadata": {},
          "execution_count": 24
        }
      ]
    },
    {
      "cell_type": "markdown",
      "metadata": {
        "id": "-W31pyrHgA6E"
      },
      "source": [
        "2. Viết hàm tính khoảng cách từ điểm P đếm M lưu kết quả tính được vào cột số 0 vừa thêm vào"
      ]
    },
    {
      "cell_type": "code",
      "source": [
        "def distance(M, P):\n",
        "  for i in range(len(M)):\n",
        "    M[i,0]=np.sqrt((M[i,1] - P[0])**2+(M[i,2]-P[1])**2)\n",
        "  return M\n",
        "M = distance(M, P)\n",
        "M"
      ],
      "metadata": {
        "id": "4ynfIdnvaaAK",
        "colab": {
          "base_uri": "https://localhost:8080/"
        },
        "outputId": "aeddcb50-61da-4fbc-8716-3b4af452f98e"
      },
      "execution_count": 25,
      "outputs": [
        {
          "output_type": "execute_result",
          "data": {
            "text/plain": [
              "array([[0.00000000e+00, 2.00000000e+02, 1.00000000e+01, 1.00000000e+00],\n",
              "       [1.80000000e+03, 2.00000000e+03, 1.00000000e+01, 1.00000000e+00],\n",
              "       [1.99904977e+03, 1.00000000e+01, 2.00000000e+03, 0.00000000e+00],\n",
              "       [1.00000000e+02, 3.00000000e+02, 1.00000000e+01, 1.00000000e+00],\n",
              "       [2.00002500e+03, 4.00000000e+02, 2.00000000e+03, 0.00000000e+00],\n",
              "       [1.99812412e+03, 2.00000000e+01, 2.00000000e+03, 0.00000000e+00],\n",
              "       [1.00806746e+03, 1.00000000e+01, 1.00000000e+03, 0.00000000e+00],\n",
              "       [1.00000000e+02, 3.00000000e+02, 1.00000000e+01, 1.00000000e+00],\n",
              "       [3.49463875e+02, 5.00000000e+00, 3.00000000e+02, 0.00000000e+00],\n",
              "       [2.74415743e+02, 2.00000000e+00, 2.00000000e+02, 0.00000000e+00]])"
            ]
          },
          "metadata": {},
          "execution_count": 25
        }
      ]
    },
    {
      "cell_type": "markdown",
      "metadata": {
        "id": "eyLdpcKjgS71"
      },
      "source": [
        "3. Viết hàm sắp xếp M theo thứ tự tăng dần của cột đầu tiên (cột vừa tính được từ câu 2)."
      ]
    },
    {
      "cell_type": "code",
      "source": [
        "def sort(M):\n",
        "    M = M[M[:, 0].argsort()]\n",
        "    return M\n",
        "\n",
        "M = sort(M)\n",
        "M"
      ],
      "metadata": {
        "colab": {
          "base_uri": "https://localhost:8080/"
        },
        "id": "oWZ7qSJdacae",
        "outputId": "22097fbb-bd6d-4b16-f312-63f3a90eac35"
      },
      "execution_count": 26,
      "outputs": [
        {
          "output_type": "execute_result",
          "data": {
            "text/plain": [
              "array([[0.00000000e+00, 2.00000000e+02, 1.00000000e+01, 1.00000000e+00],\n",
              "       [1.00000000e+02, 3.00000000e+02, 1.00000000e+01, 1.00000000e+00],\n",
              "       [1.00000000e+02, 3.00000000e+02, 1.00000000e+01, 1.00000000e+00],\n",
              "       [2.74415743e+02, 2.00000000e+00, 2.00000000e+02, 0.00000000e+00],\n",
              "       [3.49463875e+02, 5.00000000e+00, 3.00000000e+02, 0.00000000e+00],\n",
              "       [1.00806746e+03, 1.00000000e+01, 1.00000000e+03, 0.00000000e+00],\n",
              "       [1.80000000e+03, 2.00000000e+03, 1.00000000e+01, 1.00000000e+00],\n",
              "       [1.99812412e+03, 2.00000000e+01, 2.00000000e+03, 0.00000000e+00],\n",
              "       [1.99904977e+03, 1.00000000e+01, 2.00000000e+03, 0.00000000e+00],\n",
              "       [2.00002500e+03, 4.00000000e+02, 2.00000000e+03, 0.00000000e+00]])"
            ]
          },
          "metadata": {},
          "execution_count": 26
        }
      ]
    },
    {
      "cell_type": "markdown",
      "metadata": {
        "id": "dfbg9ELMgfK8"
      },
      "source": [
        "4. Lấy ra 3 giá trị theo thứ tự từ trên xuống của cột cuối cùng (cột nhãn) lưu vào L"
      ]
    },
    {
      "cell_type": "code",
      "source": [
        "def get_top(L, k):\n",
        "  return L[:k, -1]\n",
        "get_top(M,3)"
      ],
      "metadata": {
        "colab": {
          "base_uri": "https://localhost:8080/"
        },
        "id": "511la75ZaeRv",
        "outputId": "13cb3171-a4cb-4894-98a0-5932d4fef927"
      },
      "execution_count": 27,
      "outputs": [
        {
          "output_type": "execute_result",
          "data": {
            "text/plain": [
              "array([1., 1., 1.])"
            ]
          },
          "metadata": {},
          "execution_count": 27
        }
      ]
    },
    {
      "cell_type": "markdown",
      "metadata": {
        "id": "y__RmUmdg7S9"
      },
      "source": [
        "5. Viết hàm tìm giá trị xuất hiện nhiều nhất trong L. VD: L=[0,0,1,1,1,2,2,2,1,0,0,0,0] thì nhãn 0 xuất hiện nhiều nhất."
      ]
    },
    {
      "cell_type": "code",
      "source": [
        "L=[0,0,1,1,1,2,2,2,1,0,0,0,0]\n",
        "def most_frequency(L):\n",
        "    unique, counts = np.unique(L, return_counts=True)\n",
        "    return unique[np.argmax(counts)]\n",
        "print(most_frequency(L))"
      ],
      "metadata": {
        "colab": {
          "base_uri": "https://localhost:8080/"
        },
        "id": "gV2-b0enafEZ",
        "outputId": "f6d627fb-aaa2-451d-f80b-f86a73f710ca"
      },
      "execution_count": 28,
      "outputs": [
        {
          "output_type": "stream",
          "name": "stdout",
          "text": [
            "0\n"
          ]
        }
      ]
    },
    {
      "cell_type": "markdown",
      "metadata": {
        "id": "h79wnuIxhTyU"
      },
      "source": [
        "6. Viết câu lệnh để load dữ liệu từ file Data_classification.csv."
      ]
    },
    {
      "cell_type": "code",
      "source": [
        "df = pd.read_csv('data_classification.csv')\n",
        "df.head()"
      ],
      "metadata": {
        "colab": {
          "base_uri": "https://localhost:8080/",
          "height": 206
        },
        "id": "cM-JzsHoafwW",
        "outputId": "d70371dc-61ec-487d-c9a0-e2ad9e6a60b2"
      },
      "execution_count": 29,
      "outputs": [
        {
          "output_type": "execute_result",
          "data": {
            "text/plain": [
              "   4.8550642421469092  9.6399615658447146  1\n",
              "0            8.625440            0.058927  0\n",
              "1            3.828192            0.723199  0\n",
              "2            7.150955            3.899420  1\n",
              "3            6.477900            8.198181  1\n",
              "4            1.922270            1.331427  0"
            ],
            "text/html": [
              "\n",
              "  <div id=\"df-78ef90f2-9f7d-467b-8f58-0a5e0b70d8c8\" class=\"colab-df-container\">\n",
              "    <div>\n",
              "<style scoped>\n",
              "    .dataframe tbody tr th:only-of-type {\n",
              "        vertical-align: middle;\n",
              "    }\n",
              "\n",
              "    .dataframe tbody tr th {\n",
              "        vertical-align: top;\n",
              "    }\n",
              "\n",
              "    .dataframe thead th {\n",
              "        text-align: right;\n",
              "    }\n",
              "</style>\n",
              "<table border=\"1\" class=\"dataframe\">\n",
              "  <thead>\n",
              "    <tr style=\"text-align: right;\">\n",
              "      <th></th>\n",
              "      <th>4.8550642421469092</th>\n",
              "      <th>9.6399615658447146</th>\n",
              "      <th>1</th>\n",
              "    </tr>\n",
              "  </thead>\n",
              "  <tbody>\n",
              "    <tr>\n",
              "      <th>0</th>\n",
              "      <td>8.625440</td>\n",
              "      <td>0.058927</td>\n",
              "      <td>0</td>\n",
              "    </tr>\n",
              "    <tr>\n",
              "      <th>1</th>\n",
              "      <td>3.828192</td>\n",
              "      <td>0.723199</td>\n",
              "      <td>0</td>\n",
              "    </tr>\n",
              "    <tr>\n",
              "      <th>2</th>\n",
              "      <td>7.150955</td>\n",
              "      <td>3.899420</td>\n",
              "      <td>1</td>\n",
              "    </tr>\n",
              "    <tr>\n",
              "      <th>3</th>\n",
              "      <td>6.477900</td>\n",
              "      <td>8.198181</td>\n",
              "      <td>1</td>\n",
              "    </tr>\n",
              "    <tr>\n",
              "      <th>4</th>\n",
              "      <td>1.922270</td>\n",
              "      <td>1.331427</td>\n",
              "      <td>0</td>\n",
              "    </tr>\n",
              "  </tbody>\n",
              "</table>\n",
              "</div>\n",
              "    <div class=\"colab-df-buttons\">\n",
              "\n",
              "  <div class=\"colab-df-container\">\n",
              "    <button class=\"colab-df-convert\" onclick=\"convertToInteractive('df-78ef90f2-9f7d-467b-8f58-0a5e0b70d8c8')\"\n",
              "            title=\"Convert this dataframe to an interactive table.\"\n",
              "            style=\"display:none;\">\n",
              "\n",
              "  <svg xmlns=\"http://www.w3.org/2000/svg\" height=\"24px\" viewBox=\"0 -960 960 960\">\n",
              "    <path d=\"M120-120v-720h720v720H120Zm60-500h600v-160H180v160Zm220 220h160v-160H400v160Zm0 220h160v-160H400v160ZM180-400h160v-160H180v160Zm440 0h160v-160H620v160ZM180-180h160v-160H180v160Zm440 0h160v-160H620v160Z\"/>\n",
              "  </svg>\n",
              "    </button>\n",
              "\n",
              "  <style>\n",
              "    .colab-df-container {\n",
              "      display:flex;\n",
              "      gap: 12px;\n",
              "    }\n",
              "\n",
              "    .colab-df-convert {\n",
              "      background-color: #E8F0FE;\n",
              "      border: none;\n",
              "      border-radius: 50%;\n",
              "      cursor: pointer;\n",
              "      display: none;\n",
              "      fill: #1967D2;\n",
              "      height: 32px;\n",
              "      padding: 0 0 0 0;\n",
              "      width: 32px;\n",
              "    }\n",
              "\n",
              "    .colab-df-convert:hover {\n",
              "      background-color: #E2EBFA;\n",
              "      box-shadow: 0px 1px 2px rgba(60, 64, 67, 0.3), 0px 1px 3px 1px rgba(60, 64, 67, 0.15);\n",
              "      fill: #174EA6;\n",
              "    }\n",
              "\n",
              "    .colab-df-buttons div {\n",
              "      margin-bottom: 4px;\n",
              "    }\n",
              "\n",
              "    [theme=dark] .colab-df-convert {\n",
              "      background-color: #3B4455;\n",
              "      fill: #D2E3FC;\n",
              "    }\n",
              "\n",
              "    [theme=dark] .colab-df-convert:hover {\n",
              "      background-color: #434B5C;\n",
              "      box-shadow: 0px 1px 3px 1px rgba(0, 0, 0, 0.15);\n",
              "      filter: drop-shadow(0px 1px 2px rgba(0, 0, 0, 0.3));\n",
              "      fill: #FFFFFF;\n",
              "    }\n",
              "  </style>\n",
              "\n",
              "    <script>\n",
              "      const buttonEl =\n",
              "        document.querySelector('#df-78ef90f2-9f7d-467b-8f58-0a5e0b70d8c8 button.colab-df-convert');\n",
              "      buttonEl.style.display =\n",
              "        google.colab.kernel.accessAllowed ? 'block' : 'none';\n",
              "\n",
              "      async function convertToInteractive(key) {\n",
              "        const element = document.querySelector('#df-78ef90f2-9f7d-467b-8f58-0a5e0b70d8c8');\n",
              "        const dataTable =\n",
              "          await google.colab.kernel.invokeFunction('convertToInteractive',\n",
              "                                                    [key], {});\n",
              "        if (!dataTable) return;\n",
              "\n",
              "        const docLinkHtml = 'Like what you see? Visit the ' +\n",
              "          '<a target=\"_blank\" href=https://colab.research.google.com/notebooks/data_table.ipynb>data table notebook</a>'\n",
              "          + ' to learn more about interactive tables.';\n",
              "        element.innerHTML = '';\n",
              "        dataTable['output_type'] = 'display_data';\n",
              "        await google.colab.output.renderOutput(dataTable, element);\n",
              "        const docLink = document.createElement('div');\n",
              "        docLink.innerHTML = docLinkHtml;\n",
              "        element.appendChild(docLink);\n",
              "      }\n",
              "    </script>\n",
              "  </div>\n",
              "\n",
              "\n",
              "<div id=\"df-471ff5ee-bf1f-461e-b128-019a85523f6d\">\n",
              "  <button class=\"colab-df-quickchart\" onclick=\"quickchart('df-471ff5ee-bf1f-461e-b128-019a85523f6d')\"\n",
              "            title=\"Suggest charts\"\n",
              "            style=\"display:none;\">\n",
              "\n",
              "<svg xmlns=\"http://www.w3.org/2000/svg\" height=\"24px\"viewBox=\"0 0 24 24\"\n",
              "     width=\"24px\">\n",
              "    <g>\n",
              "        <path d=\"M19 3H5c-1.1 0-2 .9-2 2v14c0 1.1.9 2 2 2h14c1.1 0 2-.9 2-2V5c0-1.1-.9-2-2-2zM9 17H7v-7h2v7zm4 0h-2V7h2v10zm4 0h-2v-4h2v4z\"/>\n",
              "    </g>\n",
              "</svg>\n",
              "  </button>\n",
              "\n",
              "<style>\n",
              "  .colab-df-quickchart {\n",
              "      --bg-color: #E8F0FE;\n",
              "      --fill-color: #1967D2;\n",
              "      --hover-bg-color: #E2EBFA;\n",
              "      --hover-fill-color: #174EA6;\n",
              "      --disabled-fill-color: #AAA;\n",
              "      --disabled-bg-color: #DDD;\n",
              "  }\n",
              "\n",
              "  [theme=dark] .colab-df-quickchart {\n",
              "      --bg-color: #3B4455;\n",
              "      --fill-color: #D2E3FC;\n",
              "      --hover-bg-color: #434B5C;\n",
              "      --hover-fill-color: #FFFFFF;\n",
              "      --disabled-bg-color: #3B4455;\n",
              "      --disabled-fill-color: #666;\n",
              "  }\n",
              "\n",
              "  .colab-df-quickchart {\n",
              "    background-color: var(--bg-color);\n",
              "    border: none;\n",
              "    border-radius: 50%;\n",
              "    cursor: pointer;\n",
              "    display: none;\n",
              "    fill: var(--fill-color);\n",
              "    height: 32px;\n",
              "    padding: 0;\n",
              "    width: 32px;\n",
              "  }\n",
              "\n",
              "  .colab-df-quickchart:hover {\n",
              "    background-color: var(--hover-bg-color);\n",
              "    box-shadow: 0 1px 2px rgba(60, 64, 67, 0.3), 0 1px 3px 1px rgba(60, 64, 67, 0.15);\n",
              "    fill: var(--button-hover-fill-color);\n",
              "  }\n",
              "\n",
              "  .colab-df-quickchart-complete:disabled,\n",
              "  .colab-df-quickchart-complete:disabled:hover {\n",
              "    background-color: var(--disabled-bg-color);\n",
              "    fill: var(--disabled-fill-color);\n",
              "    box-shadow: none;\n",
              "  }\n",
              "\n",
              "  .colab-df-spinner {\n",
              "    border: 2px solid var(--fill-color);\n",
              "    border-color: transparent;\n",
              "    border-bottom-color: var(--fill-color);\n",
              "    animation:\n",
              "      spin 1s steps(1) infinite;\n",
              "  }\n",
              "\n",
              "  @keyframes spin {\n",
              "    0% {\n",
              "      border-color: transparent;\n",
              "      border-bottom-color: var(--fill-color);\n",
              "      border-left-color: var(--fill-color);\n",
              "    }\n",
              "    20% {\n",
              "      border-color: transparent;\n",
              "      border-left-color: var(--fill-color);\n",
              "      border-top-color: var(--fill-color);\n",
              "    }\n",
              "    30% {\n",
              "      border-color: transparent;\n",
              "      border-left-color: var(--fill-color);\n",
              "      border-top-color: var(--fill-color);\n",
              "      border-right-color: var(--fill-color);\n",
              "    }\n",
              "    40% {\n",
              "      border-color: transparent;\n",
              "      border-right-color: var(--fill-color);\n",
              "      border-top-color: var(--fill-color);\n",
              "    }\n",
              "    60% {\n",
              "      border-color: transparent;\n",
              "      border-right-color: var(--fill-color);\n",
              "    }\n",
              "    80% {\n",
              "      border-color: transparent;\n",
              "      border-right-color: var(--fill-color);\n",
              "      border-bottom-color: var(--fill-color);\n",
              "    }\n",
              "    90% {\n",
              "      border-color: transparent;\n",
              "      border-bottom-color: var(--fill-color);\n",
              "    }\n",
              "  }\n",
              "</style>\n",
              "\n",
              "  <script>\n",
              "    async function quickchart(key) {\n",
              "      const quickchartButtonEl =\n",
              "        document.querySelector('#' + key + ' button');\n",
              "      quickchartButtonEl.disabled = true;  // To prevent multiple clicks.\n",
              "      quickchartButtonEl.classList.add('colab-df-spinner');\n",
              "      try {\n",
              "        const charts = await google.colab.kernel.invokeFunction(\n",
              "            'suggestCharts', [key], {});\n",
              "      } catch (error) {\n",
              "        console.error('Error during call to suggestCharts:', error);\n",
              "      }\n",
              "      quickchartButtonEl.classList.remove('colab-df-spinner');\n",
              "      quickchartButtonEl.classList.add('colab-df-quickchart-complete');\n",
              "    }\n",
              "    (() => {\n",
              "      let quickchartButtonEl =\n",
              "        document.querySelector('#df-471ff5ee-bf1f-461e-b128-019a85523f6d button');\n",
              "      quickchartButtonEl.style.display =\n",
              "        google.colab.kernel.accessAllowed ? 'block' : 'none';\n",
              "    })();\n",
              "  </script>\n",
              "</div>\n",
              "\n",
              "    </div>\n",
              "  </div>\n"
            ],
            "application/vnd.google.colaboratory.intrinsic+json": {
              "type": "dataframe",
              "variable_name": "df",
              "summary": "{\n  \"name\": \"df\",\n  \"rows\": 99,\n  \"fields\": [\n    {\n      \"column\": \"4.8550642421469092\",\n      \"properties\": {\n        \"dtype\": \"number\",\n        \"std\": 3.0418941913057735,\n        \"min\": 0.0222795736044645,\n        \"max\": 9.947840929962695,\n        \"num_unique_values\": 99,\n        \"samples\": [\n          7.253438932821154,\n          9.0959601290524,\n          7.630636929534375\n        ],\n        \"semantic_type\": \"\",\n        \"description\": \"\"\n      }\n    },\n    {\n      \"column\": \"9.6399615658447146\",\n      \"properties\": {\n        \"dtype\": \"number\",\n        \"std\": 3.0991590445258805,\n        \"min\": 0.024946485646069,\n        \"max\": 9.945176206529139,\n        \"num_unique_values\": 99,\n        \"samples\": [\n          1.762510621920228,\n          1.0679170489311218,\n          7.405351395718753\n        ],\n        \"semantic_type\": \"\",\n        \"description\": \"\"\n      }\n    },\n    {\n      \"column\": \"1\",\n      \"properties\": {\n        \"dtype\": \"number\",\n        \"std\": 0,\n        \"min\": 0,\n        \"max\": 1,\n        \"num_unique_values\": 2,\n        \"samples\": [\n          1,\n          0\n        ],\n        \"semantic_type\": \"\",\n        \"description\": \"\"\n      }\n    }\n  ]\n}"
            }
          },
          "metadata": {},
          "execution_count": 29
        }
      ]
    },
    {
      "cell_type": "markdown",
      "metadata": {
        "id": "WXKMobH9hkMb"
      },
      "source": [
        "7. Tách dữ liệu thành hai tập train (X_train) và test. Tách tập test thành X_test và y_test."
      ]
    },
    {
      "cell_type": "code",
      "source": [
        "print(df.shape)"
      ],
      "metadata": {
        "colab": {
          "base_uri": "https://localhost:8080/"
        },
        "id": "f9zn4Yq5YDMQ",
        "outputId": "30fb47ba-4681-457d-f3be-281f57ce7b20"
      },
      "execution_count": 30,
      "outputs": [
        {
          "output_type": "stream",
          "name": "stdout",
          "text": [
            "(99, 3)\n"
          ]
        }
      ]
    },
    {
      "cell_type": "code",
      "source": [
        "X_train = df.iloc[:80,].values\n",
        "test  = df.iloc[80:,].values\n",
        "X_test = test[:, :-1]\n",
        "y_test = test[:, -1]\n",
        "\n",
        "# Print the shapes of the resulting datasets\n",
        "print(\"X_train shape:\", X_train.shape)\n",
        "print(\"X_test shape:\", X_test.shape)\n",
        "print(\"y_test shape:\", y_test.shape)"
      ],
      "metadata": {
        "id": "ckS9iHC0agin",
        "colab": {
          "base_uri": "https://localhost:8080/"
        },
        "outputId": "cec05f2c-52b6-498e-a3f8-a407e3084dae"
      },
      "execution_count": 31,
      "outputs": [
        {
          "output_type": "stream",
          "name": "stdout",
          "text": [
            "X_train shape: (80, 3)\n",
            "X_test shape: (19, 2)\n",
            "y_test shape: (19,)\n"
          ]
        }
      ]
    },
    {
      "cell_type": "markdown",
      "metadata": {
        "id": "1WON9Ivbh9Bz"
      },
      "source": [
        "8. Ghép cột số 0 vào đầu X_train"
      ]
    },
    {
      "cell_type": "code",
      "source": [
        "X_train = add_column(X_train)\n",
        "X_train"
      ],
      "metadata": {
        "colab": {
          "base_uri": "https://localhost:8080/"
        },
        "id": "x8iVjBq_ahs9",
        "outputId": "808d023d-5057-46a0-9239-755a1d585829",
        "collapsed": true
      },
      "execution_count": 32,
      "outputs": [
        {
          "output_type": "execute_result",
          "data": {
            "text/plain": [
              "array([[0.        , 8.62543976, 0.05892653, 0.        ],\n",
              "       [0.        , 3.82819154, 0.72319923, 0.        ],\n",
              "       [0.        , 7.15095484, 3.89942042, 1.        ],\n",
              "       [0.        , 6.47790044, 8.19818055, 1.        ],\n",
              "       [0.        , 1.9222695 , 1.33142726, 0.        ],\n",
              "       [0.        , 8.97821589, 0.99343751, 1.        ],\n",
              "       [0.        , 6.63560308, 8.54280268, 1.        ],\n",
              "       [0.        , 7.67235895, 5.41639979, 1.        ],\n",
              "       [0.        , 4.86601533, 2.04267129, 0.        ],\n",
              "       [0.        , 6.86140497, 9.65530972, 1.        ],\n",
              "       [0.        , 8.54042132, 2.59037423, 1.        ],\n",
              "       [0.        , 3.71788065, 5.38166211, 0.        ],\n",
              "       [0.        , 9.18129712, 0.17147465, 1.        ],\n",
              "       [0.        , 9.56014002, 0.02494649, 0.        ],\n",
              "       [0.        , 5.97136947, 4.18830187, 1.        ],\n",
              "       [0.        , 9.43820269, 1.94381244, 1.        ],\n",
              "       [0.        , 4.35755102, 9.88798331, 1.        ],\n",
              "       [0.        , 4.54033196, 6.71387336, 1.        ],\n",
              "       [0.        , 1.54910163, 9.37513216, 0.        ],\n",
              "       [0.        , 8.08197371, 9.84220681, 1.        ],\n",
              "       [0.        , 9.620465  , 2.09932754, 1.        ],\n",
              "       [0.        , 8.83477098, 3.15220412, 1.        ],\n",
              "       [0.        , 1.75344854, 4.2192426 , 0.        ],\n",
              "       [0.        , 1.04321284, 2.60976512, 0.        ],\n",
              "       [0.        , 1.19638318, 7.47574486, 0.        ],\n",
              "       [0.        , 8.91006988, 8.23292794, 1.        ],\n",
              "       [0.        , 4.52961874, 4.90551154, 1.        ],\n",
              "       [0.        , 1.85911241, 5.69186756, 0.        ],\n",
              "       [0.        , 9.55717884, 1.64467191, 1.        ],\n",
              "       [0.        , 7.15470123, 8.0147902 , 1.        ],\n",
              "       [0.        , 2.34361853, 2.95870685, 0.        ],\n",
              "       [0.        , 2.92268449, 8.21759492, 1.        ],\n",
              "       [0.        , 6.33309623, 7.24030498, 1.        ],\n",
              "       [0.        , 0.92562818, 3.42126711, 0.        ],\n",
              "       [0.        , 7.87439057, 7.79109336, 1.        ],\n",
              "       [0.        , 8.34775105, 1.86081251, 1.        ],\n",
              "       [0.        , 5.58106113, 2.49612929, 0.        ],\n",
              "       [0.        , 5.09102909, 9.87313409, 1.        ],\n",
              "       [0.        , 4.53017137, 3.761759  , 0.        ],\n",
              "       [0.        , 1.42377799, 0.22859793, 0.        ],\n",
              "       [0.        , 9.09596013, 1.06791705, 1.        ],\n",
              "       [0.        , 4.00661592, 9.79212786, 1.        ],\n",
              "       [0.        , 8.97656743, 3.93515977, 1.        ],\n",
              "       [0.        , 0.09805288, 7.21451254, 0.        ],\n",
              "       [0.        , 0.45238867, 2.77469425, 0.        ],\n",
              "       [0.        , 3.86304627, 3.91320229, 0.        ],\n",
              "       [0.        , 7.86385017, 7.72638337, 1.        ],\n",
              "       [0.        , 8.92270641, 7.75421671, 1.        ],\n",
              "       [0.        , 7.46436788, 9.94517621, 1.        ],\n",
              "       [0.        , 1.34192929, 2.34287804, 0.        ],\n",
              "       [0.        , 5.9409696 , 4.62063163, 1.        ],\n",
              "       [0.        , 0.90407766, 9.42092878, 0.        ],\n",
              "       [0.        , 7.75053006, 9.05717188, 1.        ],\n",
              "       [0.        , 9.51792529, 1.3011859 , 0.        ],\n",
              "       [0.        , 7.74378671, 1.15442169, 0.        ],\n",
              "       [0.        , 7.69192306, 8.29822782, 1.        ],\n",
              "       [0.        , 7.09227303, 2.35745691, 0.        ],\n",
              "       [0.        , 6.94443908, 6.48470389, 1.        ],\n",
              "       [0.        , 0.04502472, 3.34600593, 0.        ],\n",
              "       [0.        , 1.54596913, 7.56770009, 1.        ],\n",
              "       [0.        , 5.27238317, 9.14961537, 1.        ],\n",
              "       [0.        , 0.86040708, 8.98818814, 0.        ],\n",
              "       [0.        , 7.25343893, 1.76251062, 1.        ],\n",
              "       [0.        , 7.51730898, 2.24892929, 0.        ],\n",
              "       [0.        , 9.08162719, 1.4373504 , 1.        ],\n",
              "       [0.        , 0.45567818, 4.72229748, 0.        ],\n",
              "       [0.        , 6.94970542, 1.41129336, 0.        ],\n",
              "       [0.        , 9.28214252, 8.52933054, 1.        ],\n",
              "       [0.        , 7.18081269, 3.61076342, 1.        ],\n",
              "       [0.        , 1.13248839, 3.26491181, 0.        ],\n",
              "       [0.        , 7.74652845, 3.64301925, 1.        ],\n",
              "       [0.        , 7.06536045, 1.12132813, 0.        ],\n",
              "       [0.        , 6.50581749, 0.86310223, 0.        ],\n",
              "       [0.        , 5.70052911, 7.08354423, 1.        ],\n",
              "       [0.        , 6.66046669, 2.25395578, 0.        ],\n",
              "       [0.        , 1.09147202, 7.08437697, 0.        ],\n",
              "       [0.        , 4.90308762, 6.02547778, 0.        ],\n",
              "       [0.        , 3.44310934, 7.06634686, 0.        ],\n",
              "       [0.        , 8.18297806, 0.97498656, 1.        ],\n",
              "       [0.        , 9.00037648, 9.54932786, 1.        ]])"
            ]
          },
          "metadata": {},
          "execution_count": 32
        }
      ]
    },
    {
      "cell_type": "markdown",
      "metadata": {
        "id": "6UJUlC94ikTs"
      },
      "source": [
        "9. Duyệt qua từng điểm dữ liệu của X_test:\n",
        "\n",
        "    9.1 Tính khoảng cách đến tất cả các điểm của X_train\n",
        "\n",
        "    9.2 Sắp xếp X_train theo thứ tự tăng dần của cột đầu tiên.\n",
        "\n",
        "    9.3 Lấy ra k theo thứ tự từ trên xuống của cột nhãn. (k là một số lẻ: 3, 7, 9)\n",
        "\n",
        "    9.4 Xác nhãn xuất hiện nhiều nhất\n",
        "    \n",
        "Lưu tất cả nhãn tìm được vào Lable."
      ]
    },
    {
      "cell_type": "code",
      "source": [
        "def KNN(X_train,X_test,k = 3):\n",
        "  Lable =[]\n",
        "  for i in X_test:\n",
        "    #9.1: Tính khoảng cách đến tất cả các điểm của X_train\n",
        "    distances = distance(X_train, i)\n",
        "    #9.2: Sắp xếp X_traint theo thứ tự tăng dần của cột đầu tiên.\n",
        "    sorted = sort(distances)\n",
        "    #9.3: Lấy ra K theo thứ tự từ trên xuống của cột nhãn\n",
        "    top_k = get_top(sorted,k)\n",
        "    #9.4: Nhãn xuất hiện nhiều nhất\n",
        "    l = most_frequency(top_k)\n",
        "    Lable.append(l)\n",
        "  return Lable\n",
        "Lable = KNN(X_train,X_test,3)\n",
        "y_test"
      ],
      "metadata": {
        "colab": {
          "base_uri": "https://localhost:8080/"
        },
        "id": "KT4-DBN4jCOn",
        "outputId": "de609381-6465-4efb-f96f-249ade69f4ec"
      },
      "execution_count": 33,
      "outputs": [
        {
          "output_type": "execute_result",
          "data": {
            "text/plain": [
              "array([1., 0., 0., 1., 0., 1., 0., 1., 0., 0., 1., 1., 1., 1., 0., 1., 0.,\n",
              "       1., 0.])"
            ]
          },
          "metadata": {},
          "execution_count": 33
        }
      ]
    },
    {
      "cell_type": "markdown",
      "metadata": {
        "id": "TN4Jibz_j3mU"
      },
      "source": [
        "10. So sánh y_test và Lable để đánh giá tỉ lệ phần trăm đoán đúng."
      ]
    },
    {
      "cell_type": "code",
      "source": [
        "def accuracy(y_test, lables):\n",
        "  return np.mean(y_test == lables)\n",
        "kq = accuracy(y_test, Lable)\n",
        "print(f\"Accuracy: {kq:.2f}\")\n"
      ],
      "metadata": {
        "colab": {
          "base_uri": "https://localhost:8080/"
        },
        "id": "xpWIWTYzajYQ",
        "outputId": "3c38ce30-dea7-4693-ed9d-bb05ac572f72"
      },
      "execution_count": 34,
      "outputs": [
        {
          "output_type": "stream",
          "name": "stdout",
          "text": [
            "Accuracy: 0.95\n"
          ]
        }
      ]
    },
    {
      "cell_type": "markdown",
      "metadata": {
        "id": "1VWJzvi6kCKe"
      },
      "source": [
        "11. Sử dụng thư viện về KNN để train và test"
      ]
    },
    {
      "cell_type": "code",
      "source": [
        "from sklearn.neighbors import KNeighborsClassifier\n",
        "from sklearn.metrics import accuracy_score\n",
        "from sklearn.model_selection import train_test_split\n",
        "X_train, X_test, y_train, y_test = train_test_split(df.iloc[:,:-1], df.iloc[:,-1], test_size=0.2, random_state=42)\n",
        "knn = KNeighborsClassifier(n_neighbors=3)\n",
        "knn.fit(X_train, y_train)\n",
        "y_pred = knn.predict(X_test)\n",
        "accuracy = accuracy_score(y_test, y_pred)\n",
        "print(f\"Accuracy: {accuracy:.2f}\")"
      ],
      "metadata": {
        "id": "6BPtMQ5takdS",
        "colab": {
          "base_uri": "https://localhost:8080/"
        },
        "outputId": "d0f72597-d22e-40a9-a44b-e9efb7a7654f"
      },
      "execution_count": 37,
      "outputs": [
        {
          "output_type": "stream",
          "name": "stdout",
          "text": [
            "Accuracy: 0.85\n"
          ]
        }
      ]
    },
    {
      "cell_type": "markdown",
      "metadata": {
        "id": "sxDf7fVkkNtO"
      },
      "source": [
        "12. Tổ chức các hàm đã viết thành lớp lấy tên là KNN_Ten_Ban"
      ]
    },
    {
      "cell_type": "code",
      "source": [
        "class KNN_Nhung:\n",
        "  def __init__(self, k=3):\n",
        "    self.k = k\n",
        "  def add_zeros(self, M):\n",
        "    M = np.hstack((np.zeros((M.shape[0], 1)),M))\n",
        "    return M\n",
        "  def sort(self, M):\n",
        "    M = M[M[:, 0].argsort()]\n",
        "    return M\n",
        "  def most_frequency(self, L):\n",
        "    unique, counts = np.unique(L, return_counts=True)\n",
        "    return unique[np.argmax(counts)]\n",
        "  def get_top(self, L, k):\n",
        "    return L[:k, -1]\n",
        "  def predict(self, X_train,X_test):\n",
        "    X_train = self.add_zeros(X_train)\n",
        "    Lable =[]\n",
        "    for i in X_test:\n",
        "      distances = self.distance(X_train.copy(), i)\n",
        "      sorted_distances = self.sort(distances)\n",
        "      top_k = self.get_top(sorted_distances, self.k)\n",
        "      label = self.most_frequency(top_k)\n",
        "      Lable.append(label)\n",
        "      return Lable\n",
        "  def accuracy(self, y_test, labels):\n",
        "        return np.mean(y_test == labels)"
      ],
      "metadata": {
        "id": "G50LE3LEaldb"
      },
      "execution_count": null,
      "outputs": []
    },
    {
      "cell_type": "markdown",
      "metadata": {
        "id": "66uxigGBh1r6"
      },
      "source": []
    }
  ],
  "metadata": {
    "colab": {
      "provenance": []
    },
    "kernelspec": {
      "display_name": "Python 3",
      "name": "python3"
    },
    "language_info": {
      "name": "python"
    }
  },
  "nbformat": 4,
  "nbformat_minor": 0
}