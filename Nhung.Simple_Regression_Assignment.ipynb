{
 "cells": [
  {
   "cell_type": "markdown",
   "metadata": {
    "id": "-IM-eEk4hvrZ"
   },
   "source": [
    "Thực hành về hồi qui tuyến tính Linear Regerstion\n"
   ]
  },
  {
   "cell_type": "code",
   "execution_count": 1,
   "metadata": {},
   "outputs": [],
   "source": [
    "import numpy as np\n",
    "import pandas as pd\n",
    "import matplotlib.pyplot as plt"
   ]
  },
  {
   "cell_type": "code",
   "execution_count": 60,
   "metadata": {
    "id": "73Lx3m5unpq9"
   },
   "outputs": [],
   "source": [
    "#1. Hàm dự đoán tr\n",
    "def predict(X, m, b):\n",
    "    return m*X +b"
   ]
  },
  {
   "cell_type": "code",
   "execution_count": 83,
   "metadata": {
    "id": "CJy9Rwxwn0b_"
   },
   "outputs": [],
   "source": [
    "#2. Hàm mất mát\n",
    "def cost_function(X, y, m, b):\n",
    "    n = len(X)\n",
    "    total = 0.0\n",
    "    for i in range(n):\n",
    "        total+=(y[i]-(m*X[i]+b))**2\n",
    "    return total/n"
   ]
  },
  {
   "cell_type": "code",
   "execution_count": 62,
   "metadata": {
    "id": "ZXr-4tB_oo2s"
   },
   "outputs": [],
   "source": [
    "#3. Viết hàm cập nhật\n",
    "def update_weights(X, y, m, b, learning_rate):\n",
    "    m1=0\n",
    "    b1=0\n",
    "    n=len(X)\n",
    "    for i in range(n):\n",
    "        m1+= -2*X[i]*(y[i]-(m*X[i]+b))\n",
    "        b1+= -2*(y[i]-(m*X[i]+b))\n",
    "    m -= (m1 / n) * learning_rate\n",
    "    b -= (b1 / n) * learning_rate\n",
    "    return m,b\n"
   ]
  },
  {
   "cell_type": "code",
   "execution_count": 63,
   "metadata": {
    "id": "utpX-Ml0qoQ8"
   },
   "outputs": [],
   "source": [
    "#4. Viết hàm Train\n",
    "def train(X, y, m, b, learning_rate, iters):\n",
    "    cost_history = []\n",
    "    for i in range(iters):\n",
    "        m,b = update_weights(X, y, m, b, learning_rate)\n",
    "        cost = cost_function(X, y, m, b)\n",
    "        cost_history.append(cost)\n",
    "        if i%10==0:\n",
    "          print(\"iter={:d} weight={:.2f} bias={:.4f} cost={:.2}\".format(i, m, b, cost))    \n",
    "    return m,b,cost_history\n"
   ]
  },
  {
   "cell_type": "code",
   "execution_count": 64,
   "metadata": {
    "colab": {
     "base_uri": "https://localhost:8080/"
    },
    "id": "SrYy2WMNmWjv",
    "outputId": "3b93cc6e-29f1-48bd-daa9-09aad22330fd"
   },
   "outputs": [
    {
     "name": "stdout",
     "output_type": "stream",
     "text": [
      "iter=0 weight=0.80 bias=0.8722 cost=0.53\n",
      "iter=10 weight=0.51 bias=0.5166 cost=0.016\n",
      "iter=20 weight=0.49 bias=0.4461 cost=0.0043\n",
      "iter=30 weight=0.50 bias=0.4193 cost=0.0038\n",
      "iter=40 weight=0.52 bias=0.3995 cost=0.0037\n",
      "iter=50 weight=0.54 bias=0.3810 cost=0.0035\n",
      "iter=60 weight=0.56 bias=0.3631 cost=0.0034\n",
      "iter=70 weight=0.58 bias=0.3456 cost=0.0033\n",
      "iter=80 weight=0.60 bias=0.3285 cost=0.0031\n",
      "iter=90 weight=0.62 bias=0.3117 cost=0.003\n",
      "iter=100 weight=0.64 bias=0.2952 cost=0.0029\n",
      "iter=110 weight=0.65 bias=0.2791 cost=0.0028\n",
      "iter=120 weight=0.67 bias=0.2633 cost=0.0027\n",
      "iter=130 weight=0.69 bias=0.2478 cost=0.0026\n",
      "iter=140 weight=0.71 bias=0.2327 cost=0.0025\n",
      "iter=150 weight=0.72 bias=0.2178 cost=0.0024\n",
      "iter=160 weight=0.74 bias=0.2033 cost=0.0023\n",
      "iter=170 weight=0.75 bias=0.1890 cost=0.0022\n",
      "iter=180 weight=0.77 bias=0.1751 cost=0.0021\n",
      "iter=190 weight=0.78 bias=0.1614 cost=0.002\n",
      "iter=200 weight=0.80 bias=0.1480 cost=0.0019\n",
      "iter=210 weight=0.81 bias=0.1349 cost=0.0019\n",
      "iter=220 weight=0.83 bias=0.1220 cost=0.0018\n",
      "iter=230 weight=0.84 bias=0.1094 cost=0.0017\n",
      "iter=240 weight=0.85 bias=0.0971 cost=0.0016\n",
      "iter=250 weight=0.87 bias=0.0850 cost=0.0016\n",
      "iter=260 weight=0.88 bias=0.0731 cost=0.0015\n",
      "iter=270 weight=0.89 bias=0.0615 cost=0.0015\n",
      "iter=280 weight=0.91 bias=0.0502 cost=0.0014\n",
      "iter=290 weight=0.92 bias=0.0390 cost=0.0013\n",
      "iter=300 weight=0.93 bias=0.0281 cost=0.0013\n",
      "iter=310 weight=0.94 bias=0.0175 cost=0.0012\n",
      "iter=320 weight=0.95 bias=0.0070 cost=0.0012\n",
      "iter=330 weight=0.96 bias=-0.0033 cost=0.0011\n",
      "iter=340 weight=0.97 bias=-0.0133 cost=0.0011\n",
      "iter=350 weight=0.99 bias=-0.0231 cost=0.0011\n",
      "iter=360 weight=1.00 bias=-0.0328 cost=0.001\n",
      "iter=370 weight=1.01 bias=-0.0422 cost=0.00098\n",
      "iter=380 weight=1.02 bias=-0.0515 cost=0.00094\n",
      "iter=390 weight=1.03 bias=-0.0605 cost=0.00091\n",
      "iter=400 weight=1.04 bias=-0.0694 cost=0.00087\n",
      "iter=410 weight=1.05 bias=-0.0781 cost=0.00084\n",
      "iter=420 weight=1.06 bias=-0.0866 cost=0.00081\n",
      "iter=430 weight=1.06 bias=-0.0950 cost=0.00078\n",
      "iter=440 weight=1.07 bias=-0.1031 cost=0.00075\n",
      "iter=450 weight=1.08 bias=-0.1111 cost=0.00072\n",
      "iter=460 weight=1.09 bias=-0.1190 cost=0.00069\n",
      "iter=470 weight=1.10 bias=-0.1267 cost=0.00067\n",
      "iter=480 weight=1.11 bias=-0.1342 cost=0.00064\n",
      "iter=490 weight=1.12 bias=-0.1416 cost=0.00062\n",
      "iter=500 weight=1.12 bias=-0.1488 cost=0.00059\n",
      "iter=510 weight=1.13 bias=-0.1559 cost=0.00057\n",
      "iter=520 weight=1.14 bias=-0.1628 cost=0.00055\n",
      "iter=530 weight=1.15 bias=-0.1696 cost=0.00053\n",
      "iter=540 weight=1.15 bias=-0.1763 cost=0.00051\n",
      "iter=550 weight=1.16 bias=-0.1828 cost=0.00049\n",
      "iter=560 weight=1.17 bias=-0.1892 cost=0.00047\n",
      "iter=570 weight=1.17 bias=-0.1954 cost=0.00046\n",
      "iter=580 weight=1.18 bias=-0.2015 cost=0.00044\n",
      "iter=590 weight=1.19 bias=-0.2075 cost=0.00042\n",
      "iter=600 weight=1.19 bias=-0.2134 cost=0.00041\n",
      "iter=610 weight=1.20 bias=-0.2192 cost=0.00039\n",
      "iter=620 weight=1.21 bias=-0.2248 cost=0.00038\n",
      "iter=630 weight=1.21 bias=-0.2304 cost=0.00037\n",
      "iter=640 weight=1.22 bias=-0.2358 cost=0.00035\n",
      "iter=650 weight=1.22 bias=-0.2411 cost=0.00034\n",
      "iter=660 weight=1.23 bias=-0.2463 cost=0.00033\n",
      "iter=670 weight=1.24 bias=-0.2514 cost=0.00032\n",
      "iter=680 weight=1.24 bias=-0.2564 cost=0.00031\n",
      "iter=690 weight=1.25 bias=-0.2612 cost=0.0003\n",
      "iter=700 weight=1.25 bias=-0.2660 cost=0.00029\n",
      "iter=710 weight=1.26 bias=-0.2707 cost=0.00028\n",
      "iter=720 weight=1.26 bias=-0.2753 cost=0.00027\n",
      "iter=730 weight=1.27 bias=-0.2798 cost=0.00026\n",
      "iter=740 weight=1.27 bias=-0.2842 cost=0.00025\n",
      "iter=750 weight=1.28 bias=-0.2885 cost=0.00024\n",
      "iter=760 weight=1.28 bias=-0.2928 cost=0.00023\n",
      "iter=770 weight=1.29 bias=-0.2969 cost=0.00023\n",
      "iter=780 weight=1.29 bias=-0.3010 cost=0.00022\n",
      "iter=790 weight=1.30 bias=-0.3049 cost=0.00021\n",
      "iter=800 weight=1.30 bias=-0.3088 cost=0.00021\n",
      "iter=810 weight=1.30 bias=-0.3127 cost=0.0002\n",
      "iter=820 weight=1.31 bias=-0.3164 cost=0.00019\n",
      "iter=830 weight=1.31 bias=-0.3201 cost=0.00019\n",
      "iter=840 weight=1.32 bias=-0.3236 cost=0.00018\n",
      "iter=850 weight=1.32 bias=-0.3272 cost=0.00018\n",
      "iter=860 weight=1.32 bias=-0.3306 cost=0.00017\n",
      "iter=870 weight=1.33 bias=-0.3340 cost=0.00017\n",
      "iter=880 weight=1.33 bias=-0.3373 cost=0.00016\n",
      "iter=890 weight=1.33 bias=-0.3405 cost=0.00016\n",
      "iter=900 weight=1.34 bias=-0.3437 cost=0.00015\n",
      "iter=910 weight=1.34 bias=-0.3468 cost=0.00015\n",
      "iter=920 weight=1.34 bias=-0.3498 cost=0.00014\n",
      "iter=930 weight=1.35 bias=-0.3528 cost=0.00014\n",
      "iter=940 weight=1.35 bias=-0.3557 cost=0.00014\n",
      "iter=950 weight=1.35 bias=-0.3586 cost=0.00013\n",
      "iter=960 weight=1.36 bias=-0.3614 cost=0.00013\n",
      "iter=970 weight=1.36 bias=-0.3641 cost=0.00013\n",
      "iter=980 weight=1.36 bias=-0.3668 cost=0.00012\n",
      "iter=990 weight=1.37 bias=-0.3695 cost=0.00012\n",
      "iter=1000 weight=1.37 bias=-0.3720 cost=0.00012\n",
      "iter=1010 weight=1.37 bias=-0.3746 cost=0.00011\n",
      "iter=1020 weight=1.37 bias=-0.3770 cost=0.00011\n",
      "iter=1030 weight=1.38 bias=-0.3795 cost=0.00011\n",
      "iter=1040 weight=1.38 bias=-0.3819 cost=0.00011\n",
      "iter=1050 weight=1.38 bias=-0.3842 cost=0.0001\n",
      "iter=1060 weight=1.38 bias=-0.3865 cost=0.0001\n",
      "iter=1070 weight=1.39 bias=-0.3887 cost=0.0001\n",
      "iter=1080 weight=1.39 bias=-0.3909 cost=9.7e-05\n",
      "iter=1090 weight=1.39 bias=-0.3930 cost=9.5e-05\n",
      "iter=1100 weight=1.39 bias=-0.3951 cost=9.3e-05\n",
      "iter=1110 weight=1.40 bias=-0.3972 cost=9.2e-05\n",
      "iter=1120 weight=1.40 bias=-0.3992 cost=9e-05\n",
      "iter=1130 weight=1.40 bias=-0.4012 cost=8.8e-05\n",
      "iter=1140 weight=1.40 bias=-0.4031 cost=8.6e-05\n",
      "iter=1150 weight=1.40 bias=-0.4050 cost=8.5e-05\n",
      "iter=1160 weight=1.41 bias=-0.4069 cost=8.3e-05\n",
      "iter=1170 weight=1.41 bias=-0.4087 cost=8.2e-05\n",
      "iter=1180 weight=1.41 bias=-0.4105 cost=8e-05\n",
      "iter=1190 weight=1.41 bias=-0.4122 cost=7.9e-05\n",
      "iter=1200 weight=1.41 bias=-0.4139 cost=7.8e-05\n",
      "iter=1210 weight=1.42 bias=-0.4156 cost=7.7e-05\n",
      "iter=1220 weight=1.42 bias=-0.4172 cost=7.5e-05\n",
      "iter=1230 weight=1.42 bias=-0.4188 cost=7.4e-05\n",
      "iter=1240 weight=1.42 bias=-0.4204 cost=7.3e-05\n",
      "iter=1250 weight=1.42 bias=-0.4220 cost=7.2e-05\n",
      "iter=1260 weight=1.43 bias=-0.4235 cost=7.1e-05\n",
      "iter=1270 weight=1.43 bias=-0.4249 cost=7e-05\n",
      "iter=1280 weight=1.43 bias=-0.4264 cost=6.9e-05\n",
      "iter=1290 weight=1.43 bias=-0.4278 cost=6.8e-05\n",
      "iter=1300 weight=1.43 bias=-0.4292 cost=6.8e-05\n",
      "iter=1310 weight=1.43 bias=-0.4306 cost=6.7e-05\n",
      "iter=1320 weight=1.43 bias=-0.4319 cost=6.6e-05\n",
      "iter=1330 weight=1.44 bias=-0.4332 cost=6.5e-05\n",
      "iter=1340 weight=1.44 bias=-0.4345 cost=6.4e-05\n",
      "iter=1350 weight=1.44 bias=-0.4358 cost=6.4e-05\n",
      "iter=1360 weight=1.44 bias=-0.4370 cost=6.3e-05\n",
      "iter=1370 weight=1.44 bias=-0.4382 cost=6.2e-05\n",
      "iter=1380 weight=1.44 bias=-0.4394 cost=6.2e-05\n",
      "iter=1390 weight=1.44 bias=-0.4405 cost=6.1e-05\n",
      "iter=1400 weight=1.45 bias=-0.4417 cost=6.1e-05\n",
      "iter=1410 weight=1.45 bias=-0.4428 cost=6e-05\n",
      "iter=1420 weight=1.45 bias=-0.4439 cost=6e-05\n",
      "iter=1430 weight=1.45 bias=-0.4449 cost=5.9e-05\n",
      "iter=1440 weight=1.45 bias=-0.4460 cost=5.9e-05\n",
      "iter=1450 weight=1.45 bias=-0.4470 cost=5.8e-05\n",
      "iter=1460 weight=1.45 bias=-0.4480 cost=5.8e-05\n",
      "iter=1470 weight=1.45 bias=-0.4490 cost=5.7e-05\n",
      "iter=1480 weight=1.45 bias=-0.4499 cost=5.7e-05\n",
      "iter=1490 weight=1.46 bias=-0.4509 cost=5.7e-05\n"
     ]
    }
   ],
   "source": [
    "#5. Tạo dữ liệu và train\n",
    "X = np.array([147, 150, 153, 158, 163, 165, 168, 170, 173, 175, 178, 180, 183])\n",
    "y = np.array([ 49, 50, 51,  54, 58, 59, 60, 62, 63, 64, 66, 67, 68])\n",
    "X=X/max(X)\n",
    "y=y/max(y)\n",
    "m,b,h=train(X,y,0.0,0.0,0.5,1500)"
   ]
  },
  {
   "cell_type": "markdown",
   "metadata": {
    "id": "7gFD3goHiR6f"
   },
   "source": [
    "6. Thay đổi hệ số học và số lần lặp quan sát kết quả"
   ]
  },
  {
   "cell_type": "code",
   "execution_count": 65,
   "metadata": {
    "colab": {
     "base_uri": "https://localhost:8080/",
     "height": 430
    },
    "id": "UN7ZIa_1ELsF",
    "outputId": "37462ec7-8642-4194-e542-5484f15ff827"
   },
   "outputs": [
    {
     "data": {
      "image/png": "[encoded data removed]",
      "text/plain": [
       "<Figure size 640x480 with 1 Axes>"
      ]
     },
     "metadata": {},
     "output_type": "display_data"
    }
   ],
   "source": [
    "#7. Vẽ biểu đồ biểu thị sự thay đổi hàm mất mát\n",
    "plt.scatter(x=list(range(0, 1500)), y=h,color='red')\n",
    "plt.show()"
   ]
  },
  {
   "cell_type": "code",
   "execution_count": 66,
   "metadata": {
    "colab": {
     "base_uri": "https://localhost:8080/",
     "height": 449
    },
    "id": "VXOBd4LsuTfU",
    "outputId": "7aaa6f84-2868-4463-a2a6-9d4164ce11ed"
   },
   "outputs": [
    {
     "data": {
      "image/png": "[encoded data removed]",
      "text/plain": [
       "<Figure size 640x480 with 1 Axes>"
      ]
     },
     "metadata": {},
     "output_type": "display_data"
    }
   ],
   "source": [
    "#8. In kết quả dự đoán và kết quả thật để so sánh\n",
    "y1=predict(X,m,b)\n",
    "plt.plot(X, y, 'g^',label='Du lieu goc')\n",
    "plt.plot(X, y1, 'ro',label='Du lieu du doan')\n",
    "plt.legend()\n",
    "#plt.axis([140, 190, 45, 75])\n",
    "plt.xlabel('Height (cm)')\n",
    "plt.ylabel('Weight (kg)')\n",
    "plt.show()"
   ]
  },
  {
   "cell_type": "code",
   "execution_count": null,
   "metadata": {
    "id": "KB09BZhcTT_C"
   },
   "outputs": [],
   "source": [
    "#9. Thay đổi hệ số học và lần lặp kiểm tra kết quả\n"
   ]
  },
  {
   "cell_type": "markdown",
   "metadata": {
    "id": "TEmwEgZUi4aU"
   },
   "source": [
    "10. Đọc dữ liệu từ file Cannang. Thực hiện train và test."
   ]
  },
  {
   "cell_type": "code",
   "execution_count": 85,
   "metadata": {},
   "outputs": [
    {
     "name": "stdout",
     "output_type": "stream",
     "text": [
      "iter=0 weight=249.10 bias=1.4488 cost=1.8e+09\n",
      "iter=10 weight=91785418900349272005515361958398411931587467804672.00 bias=541255718534953272221251199249410180934497468416.0000 cost=2.4e+104\n",
      "iter=20 weight=33820275644692394580095578861450435112075814078373197701253471953954130499624756346837558072705024.00 bias=199437098118952994657017134221186753848004425482064219669026298618699367534802799853157276975104.0000 cost=3.3e+199\n",
      "iter=30 weight=12461794677047795401579273802246349608485888831336474719481746257516415051919494768835833623121484823667198248753106080851143008187803166828396544.00 bias=73486809920032871666294235204072929417960316940154562222434928958896256197284460692415826176942753550664774831962757599031445277917540440342528.0000 cost=4.4e+294\n",
      "iter=40 weight=4591811379788920594791636700023555004478494716776721987859595691753819735689797908294744006104471520026349157153587216035172202229381826022924684027024649931758061468580036466502152800914374656.00 bias=27077766790419585066797718470383911038591738916799490898448160077741008389269389227019564755370969811317343084599124981285960136206757063675659328627782178565444830039770898370037900269060096.0000 cost=inf\n"
     ]
    },
    {
     "name": "stderr",
     "output_type": "stream",
     "text": [
      "C:\\Users\\DELL\\AppData\\Local\\Temp\\ipykernel_7232\\684950214.py:6: RuntimeWarning: overflow encountered in scalar power\n",
      "  total+=(y[i]-(m*X[i]+b))**2\n"
     ]
    }
   ],
   "source": [
    "df = pd.read_csv(r'F:\\study\\HK1_3_2425\\DS321_MachineLearning1\\resources\\CanNang.csv')\n",
    "height = df.iloc[:, 0]\n",
    "weight = df.iloc[:,1]\n",
    "heigh=height/max(height)\n",
    "weight= weight/max(weight)\n",
    "m,b,h=train(height,weight,0.0,0.0,1,50)"
   ]
  },
  {
   "cell_type": "code",
   "execution_count": 81,
   "metadata": {},
   "outputs": [
    {
     "ename": "ValueError",
     "evalue": "x and y must be the same size",
     "output_type": "error",
     "traceback": [
      "\u001b[1;31m---------------------------------------------------------------------------\u001b[0m",
      "\u001b[1;31mValueError\u001b[0m                                Traceback (most recent call last)",
      "Cell \u001b[1;32mIn[81], line 1\u001b[0m\n\u001b[1;32m----> 1\u001b[0m \u001b[43mplt\u001b[49m\u001b[38;5;241;43m.\u001b[39;49m\u001b[43mscatter\u001b[49m\u001b[43m(\u001b[49m\u001b[43mx\u001b[49m\u001b[38;5;241;43m=\u001b[39;49m\u001b[38;5;28;43mlist\u001b[39;49m\u001b[43m(\u001b[49m\u001b[38;5;28;43mrange\u001b[39;49m\u001b[43m(\u001b[49m\u001b[38;5;241;43m0\u001b[39;49m\u001b[43m,\u001b[49m\u001b[43m \u001b[49m\u001b[38;5;241;43m1500\u001b[39;49m\u001b[43m)\u001b[49m\u001b[43m)\u001b[49m\u001b[43m,\u001b[49m\u001b[43m \u001b[49m\u001b[43my\u001b[49m\u001b[38;5;241;43m=\u001b[39;49m\u001b[43mh\u001b[49m\u001b[43m,\u001b[49m\u001b[43mcolor\u001b[49m\u001b[38;5;241;43m=\u001b[39;49m\u001b[38;5;124;43m'\u001b[39;49m\u001b[38;5;124;43mred\u001b[39;49m\u001b[38;5;124;43m'\u001b[39;49m\u001b[43m)\u001b[49m\n\u001b[0;32m      2\u001b[0m plt\u001b[38;5;241m.\u001b[39mshow()\n",
      "File \u001b[1;32mc:\\Users\\DELL\\AppData\\Local\\Programs\\Python\\Python312\\Lib\\site-packages\\matplotlib\\pyplot.py:3903\u001b[0m, in \u001b[0;36mscatter\u001b[1;34m(x, y, s, c, marker, cmap, norm, vmin, vmax, alpha, linewidths, edgecolors, plotnonfinite, data, **kwargs)\u001b[0m\n\u001b[0;32m   3884\u001b[0m \u001b[38;5;129m@_copy_docstring_and_deprecators\u001b[39m(Axes\u001b[38;5;241m.\u001b[39mscatter)\n\u001b[0;32m   3885\u001b[0m \u001b[38;5;28;01mdef\u001b[39;00m \u001b[38;5;21mscatter\u001b[39m(\n\u001b[0;32m   3886\u001b[0m     x: \u001b[38;5;28mfloat\u001b[39m \u001b[38;5;241m|\u001b[39m ArrayLike,\n\u001b[1;32m   (...)\u001b[0m\n\u001b[0;32m   3901\u001b[0m     \u001b[38;5;241m*\u001b[39m\u001b[38;5;241m*\u001b[39mkwargs,\n\u001b[0;32m   3902\u001b[0m ) \u001b[38;5;241m-\u001b[39m\u001b[38;5;241m>\u001b[39m PathCollection:\n\u001b[1;32m-> 3903\u001b[0m     __ret \u001b[38;5;241m=\u001b[39m \u001b[43mgca\u001b[49m\u001b[43m(\u001b[49m\u001b[43m)\u001b[49m\u001b[38;5;241;43m.\u001b[39;49m\u001b[43mscatter\u001b[49m\u001b[43m(\u001b[49m\n\u001b[0;32m   3904\u001b[0m \u001b[43m        \u001b[49m\u001b[43mx\u001b[49m\u001b[43m,\u001b[49m\n\u001b[0;32m   3905\u001b[0m \u001b[43m        \u001b[49m\u001b[43my\u001b[49m\u001b[43m,\u001b[49m\n\u001b[0;32m   3906\u001b[0m \u001b[43m        \u001b[49m\u001b[43ms\u001b[49m\u001b[38;5;241;43m=\u001b[39;49m\u001b[43ms\u001b[49m\u001b[43m,\u001b[49m\n\u001b[0;32m   3907\u001b[0m \u001b[43m        \u001b[49m\u001b[43mc\u001b[49m\u001b[38;5;241;43m=\u001b[39;49m\u001b[43mc\u001b[49m\u001b[43m,\u001b[49m\n\u001b[0;32m   3908\u001b[0m \u001b[43m        \u001b[49m\u001b[43mmarker\u001b[49m\u001b[38;5;241;43m=\u001b[39;49m\u001b[43mmarker\u001b[49m\u001b[43m,\u001b[49m\n\u001b[0;32m   3909\u001b[0m \u001b[43m        \u001b[49m\u001b[43mcmap\u001b[49m\u001b[38;5;241;43m=\u001b[39;49m\u001b[43mcmap\u001b[49m\u001b[43m,\u001b[49m\n\u001b[0;32m   3910\u001b[0m \u001b[43m        \u001b[49m\u001b[43mnorm\u001b[49m\u001b[38;5;241;43m=\u001b[39;49m\u001b[43mnorm\u001b[49m\u001b[43m,\u001b[49m\n\u001b[0;32m   3911\u001b[0m \u001b[43m        \u001b[49m\u001b[43mvmin\u001b[49m\u001b[38;5;241;43m=\u001b[39;49m\u001b[43mvmin\u001b[49m\u001b[43m,\u001b[49m\n\u001b[0;32m   3912\u001b[0m \u001b[43m        \u001b[49m\u001b[43mvmax\u001b[49m\u001b[38;5;241;43m=\u001b[39;49m\u001b[43mvmax\u001b[49m\u001b[43m,\u001b[49m\n\u001b[0;32m   3913\u001b[0m \u001b[43m        \u001b[49m\u001b[43malpha\u001b[49m\u001b[38;5;241;43m=\u001b[39;49m\u001b[43malpha\u001b[49m\u001b[43m,\u001b[49m\n\u001b[0;32m   3914\u001b[0m \u001b[43m        \u001b[49m\u001b[43mlinewidths\u001b[49m\u001b[38;5;241;43m=\u001b[39;49m\u001b[43mlinewidths\u001b[49m\u001b[43m,\u001b[49m\n\u001b[0;32m   3915\u001b[0m \u001b[43m        \u001b[49m\u001b[43medgecolors\u001b[49m\u001b[38;5;241;43m=\u001b[39;49m\u001b[43medgecolors\u001b[49m\u001b[43m,\u001b[49m\n\u001b[0;32m   3916\u001b[0m \u001b[43m        \u001b[49m\u001b[43mplotnonfinite\u001b[49m\u001b[38;5;241;43m=\u001b[39;49m\u001b[43mplotnonfinite\u001b[49m\u001b[43m,\u001b[49m\n\u001b[0;32m   3917\u001b[0m \u001b[43m        \u001b[49m\u001b[38;5;241;43m*\u001b[39;49m\u001b[38;5;241;43m*\u001b[39;49m\u001b[43m(\u001b[49m\u001b[43m{\u001b[49m\u001b[38;5;124;43m\"\u001b[39;49m\u001b[38;5;124;43mdata\u001b[39;49m\u001b[38;5;124;43m\"\u001b[39;49m\u001b[43m:\u001b[49m\u001b[43m \u001b[49m\u001b[43mdata\u001b[49m\u001b[43m}\u001b[49m\u001b[43m \u001b[49m\u001b[38;5;28;43;01mif\u001b[39;49;00m\u001b[43m \u001b[49m\u001b[43mdata\u001b[49m\u001b[43m \u001b[49m\u001b[38;5;129;43;01mis\u001b[39;49;00m\u001b[43m \u001b[49m\u001b[38;5;129;43;01mnot\u001b[39;49;00m\u001b[43m \u001b[49m\u001b[38;5;28;43;01mNone\u001b[39;49;00m\u001b[43m \u001b[49m\u001b[38;5;28;43;01melse\u001b[39;49;00m\u001b[43m \u001b[49m\u001b[43m{\u001b[49m\u001b[43m}\u001b[49m\u001b[43m)\u001b[49m\u001b[43m,\u001b[49m\n\u001b[0;32m   3918\u001b[0m \u001b[43m        \u001b[49m\u001b[38;5;241;43m*\u001b[39;49m\u001b[38;5;241;43m*\u001b[39;49m\u001b[43mkwargs\u001b[49m\u001b[43m,\u001b[49m\n\u001b[0;32m   3919\u001b[0m \u001b[43m    \u001b[49m\u001b[43m)\u001b[49m\n\u001b[0;32m   3920\u001b[0m     sci(__ret)\n\u001b[0;32m   3921\u001b[0m     \u001b[38;5;28;01mreturn\u001b[39;00m __ret\n",
      "File \u001b[1;32mc:\\Users\\DELL\\AppData\\Local\\Programs\\Python\\Python312\\Lib\\site-packages\\matplotlib\\__init__.py:1473\u001b[0m, in \u001b[0;36m_preprocess_data.<locals>.inner\u001b[1;34m(ax, data, *args, **kwargs)\u001b[0m\n\u001b[0;32m   1470\u001b[0m \u001b[38;5;129m@functools\u001b[39m\u001b[38;5;241m.\u001b[39mwraps(func)\n\u001b[0;32m   1471\u001b[0m \u001b[38;5;28;01mdef\u001b[39;00m \u001b[38;5;21minner\u001b[39m(ax, \u001b[38;5;241m*\u001b[39margs, data\u001b[38;5;241m=\u001b[39m\u001b[38;5;28;01mNone\u001b[39;00m, \u001b[38;5;241m*\u001b[39m\u001b[38;5;241m*\u001b[39mkwargs):\n\u001b[0;32m   1472\u001b[0m     \u001b[38;5;28;01mif\u001b[39;00m data \u001b[38;5;129;01mis\u001b[39;00m \u001b[38;5;28;01mNone\u001b[39;00m:\n\u001b[1;32m-> 1473\u001b[0m         \u001b[38;5;28;01mreturn\u001b[39;00m \u001b[43mfunc\u001b[49m\u001b[43m(\u001b[49m\n\u001b[0;32m   1474\u001b[0m \u001b[43m            \u001b[49m\u001b[43max\u001b[49m\u001b[43m,\u001b[49m\n\u001b[0;32m   1475\u001b[0m \u001b[43m            \u001b[49m\u001b[38;5;241;43m*\u001b[39;49m\u001b[38;5;28;43mmap\u001b[39;49m\u001b[43m(\u001b[49m\u001b[43msanitize_sequence\u001b[49m\u001b[43m,\u001b[49m\u001b[43m \u001b[49m\u001b[43margs\u001b[49m\u001b[43m)\u001b[49m\u001b[43m,\u001b[49m\n\u001b[0;32m   1476\u001b[0m \u001b[43m            \u001b[49m\u001b[38;5;241;43m*\u001b[39;49m\u001b[38;5;241;43m*\u001b[39;49m\u001b[43m{\u001b[49m\u001b[43mk\u001b[49m\u001b[43m:\u001b[49m\u001b[43m \u001b[49m\u001b[43msanitize_sequence\u001b[49m\u001b[43m(\u001b[49m\u001b[43mv\u001b[49m\u001b[43m)\u001b[49m\u001b[43m \u001b[49m\u001b[38;5;28;43;01mfor\u001b[39;49;00m\u001b[43m \u001b[49m\u001b[43mk\u001b[49m\u001b[43m,\u001b[49m\u001b[43m \u001b[49m\u001b[43mv\u001b[49m\u001b[43m \u001b[49m\u001b[38;5;129;43;01min\u001b[39;49;00m\u001b[43m \u001b[49m\u001b[43mkwargs\u001b[49m\u001b[38;5;241;43m.\u001b[39;49m\u001b[43mitems\u001b[49m\u001b[43m(\u001b[49m\u001b[43m)\u001b[49m\u001b[43m}\u001b[49m\u001b[43m)\u001b[49m\n\u001b[0;32m   1478\u001b[0m     bound \u001b[38;5;241m=\u001b[39m new_sig\u001b[38;5;241m.\u001b[39mbind(ax, \u001b[38;5;241m*\u001b[39margs, \u001b[38;5;241m*\u001b[39m\u001b[38;5;241m*\u001b[39mkwargs)\n\u001b[0;32m   1479\u001b[0m     auto_label \u001b[38;5;241m=\u001b[39m (bound\u001b[38;5;241m.\u001b[39marguments\u001b[38;5;241m.\u001b[39mget(label_namer)\n\u001b[0;32m   1480\u001b[0m                   \u001b[38;5;129;01mor\u001b[39;00m bound\u001b[38;5;241m.\u001b[39mkwargs\u001b[38;5;241m.\u001b[39mget(label_namer))\n",
      "File \u001b[1;32mc:\\Users\\DELL\\AppData\\Local\\Programs\\Python\\Python312\\Lib\\site-packages\\matplotlib\\axes\\_axes.py:4787\u001b[0m, in \u001b[0;36mAxes.scatter\u001b[1;34m(self, x, y, s, c, marker, cmap, norm, vmin, vmax, alpha, linewidths, edgecolors, plotnonfinite, **kwargs)\u001b[0m\n\u001b[0;32m   4785\u001b[0m y \u001b[38;5;241m=\u001b[39m np\u001b[38;5;241m.\u001b[39mma\u001b[38;5;241m.\u001b[39mravel(y)\n\u001b[0;32m   4786\u001b[0m \u001b[38;5;28;01mif\u001b[39;00m x\u001b[38;5;241m.\u001b[39msize \u001b[38;5;241m!=\u001b[39m y\u001b[38;5;241m.\u001b[39msize:\n\u001b[1;32m-> 4787\u001b[0m     \u001b[38;5;28;01mraise\u001b[39;00m \u001b[38;5;167;01mValueError\u001b[39;00m(\u001b[38;5;124m\"\u001b[39m\u001b[38;5;124mx and y must be the same size\u001b[39m\u001b[38;5;124m\"\u001b[39m)\n\u001b[0;32m   4789\u001b[0m \u001b[38;5;28;01mif\u001b[39;00m s \u001b[38;5;129;01mis\u001b[39;00m \u001b[38;5;28;01mNone\u001b[39;00m:\n\u001b[0;32m   4790\u001b[0m     s \u001b[38;5;241m=\u001b[39m (\u001b[38;5;241m20\u001b[39m \u001b[38;5;28;01mif\u001b[39;00m mpl\u001b[38;5;241m.\u001b[39mrcParams[\u001b[38;5;124m'\u001b[39m\u001b[38;5;124m_internal.classic_mode\u001b[39m\u001b[38;5;124m'\u001b[39m] \u001b[38;5;28;01melse\u001b[39;00m\n\u001b[0;32m   4791\u001b[0m          mpl\u001b[38;5;241m.\u001b[39mrcParams[\u001b[38;5;124m'\u001b[39m\u001b[38;5;124mlines.markersize\u001b[39m\u001b[38;5;124m'\u001b[39m] \u001b[38;5;241m*\u001b[39m\u001b[38;5;241m*\u001b[39m \u001b[38;5;241m2.0\u001b[39m)\n",
      "\u001b[1;31mValueError\u001b[0m: x and y must be the same size"
     ]
    },
    {
     "data": {
      "image/png": "[encoded data removed]",
      "text/plain": [
       "<Figure size 640x480 with 1 Axes>"
      ]
     },
     "metadata": {},
     "output_type": "display_data"
    }
   ],
   "source": [
    "plt.scatter(x=list(range(0, 1500)), y=h,color='red')\n",
    "plt.show()"
   ]
  }
 ],
 "metadata": {
  "colab": {
   "provenance": []
  },
  "kernelspec": {
   "display_name": "Python 3",
   "language": "python",
   "name": "python3"
  },
  "language_info": {
   "codemirror_mode": {
    "name": "ipython",
    "version": 3
   },
   "file_extension": ".py",
   "mimetype": "text/x-python",
   "name": "python",
   "nbconvert_exporter": "python",
   "pygments_lexer": "ipython3",
   "version": "3.12.3"
  }
 },
 "nbformat": 4,
 "nbformat_minor": 0
}
