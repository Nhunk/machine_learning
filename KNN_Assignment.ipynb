{
 "cells": [
  {
   "cell_type": "markdown",
   "metadata": {
    "id": "dIsLX6j6ftdG"
   },
   "source": [
    "Cho ma trận M và một điểm P\n",
    "\n",
    "M=np.array([[200, 10, 1],\n",
    "            [2000, 10, 1],\n",
    "           [10, 2000, 0],\n",
    "           [300, 10, 1],\n",
    "           [400, 2000, 0],\n",
    "           [20, 2000, 0],\n",
    "            [10, 1000, 0],\n",
    "            [300, 10, 1],\n",
    "            [5, 300, 0],\n",
    "            [2, 200, 0]])\n",
    "P=np.array([200,10])"
   ]
  },
  {
   "cell_type": "code",
   "execution_count": 2,
   "metadata": {},
   "outputs": [
    {
     "data": {
      "text/plain": [
       "array([[ 200,   10,    1],\n",
       "       [2000,   10,    1],\n",
       "       [  10, 2000,    0],\n",
       "       [ 300,   10,    1],\n",
       "       [ 400, 2000,    0],\n",
       "       [  20, 2000,    0],\n",
       "       [  10, 1000,    0],\n",
       "       [ 300,   10,    1],\n",
       "       [   5,  300,    0],\n",
       "       [   2,  200,    0]])"
      ]
     },
     "execution_count": 2,
     "metadata": {},
     "output_type": "execute_result"
    }
   ],
   "source": [
    "import numpy as np\n",
    "M=np.array([[200, 10, 1],\n",
    "            [2000, 10, 1],\n",
    "           [10, 2000, 0],\n",
    "           [300, 10, 1],\n",
    "           [400, 2000, 0],\n",
    "           [20, 2000, 0],\n",
    "            [10, 1000, 0],\n",
    "            [300, 10, 1],\n",
    "            [5, 300, 0],\n",
    "            [2, 200, 0]])\n",
    "P=np.array([200,10])\n",
    "M"
   ]
  },
  {
   "cell_type": "markdown",
   "metadata": {
    "id": "Pk2i9rWtf691"
   },
   "source": [
    "1. Viết hàm thêm cột số 0 vào trước ma trận M"
   ]
  },
  {
   "cell_type": "code",
   "execution_count": null,
   "metadata": {},
   "outputs": [],
   "source": []
  },
  {
   "cell_type": "markdown",
   "metadata": {
    "id": "-W31pyrHgA6E"
   },
   "source": [
    "2. Viết hàm tính khoảng cách từ điểm P đếm M lưu kết quả tính được vào cột số 0 vừa thêm vào"
   ]
  },
  {
   "cell_type": "code",
   "execution_count": null,
   "metadata": {},
   "outputs": [],
   "source": []
  },
  {
   "cell_type": "markdown",
   "metadata": {
    "id": "eyLdpcKjgS71"
   },
   "source": [
    "3. Viết hàm sắp xếp M theo thứ tự tăng dần của cột đầu tiên (cột vừa tính được từ câu 2)."
   ]
  },
  {
   "cell_type": "code",
   "execution_count": null,
   "metadata": {},
   "outputs": [],
   "source": []
  },
  {
   "cell_type": "markdown",
   "metadata": {
    "id": "dfbg9ELMgfK8"
   },
   "source": [
    "4. Lấy ra 3 giá trị theo thứ tự từ trên xuống của cột cuối cùng (cột nhãn) lưu vào L"
   ]
  },
  {
   "cell_type": "markdown",
   "metadata": {
    "id": "y__RmUmdg7S9"
   },
   "source": [
    "5. Viết hàm tìm giá trị xuất hiện nhiều nhất trong L. VD: L=[0,0,1,1,1,2,2,2,1,0,0,0,0] thì nhãn 0 xuất hiện nhiều nhất."
   ]
  },
  {
   "cell_type": "markdown",
   "metadata": {
    "id": "h79wnuIxhTyU"
   },
   "source": [
    "6. Viết câu lệnh để load dữ liệu từ file Data_classification.csv."
   ]
  },
  {
   "cell_type": "markdown",
   "metadata": {
    "id": "WXKMobH9hkMb"
   },
   "source": [
    "7. Tách dữ liệu thành hai tập train (X_train) và test. Tách tập test thành X_test và y_test."
   ]
  },
  {
   "cell_type": "markdown",
   "metadata": {
    "id": "1WON9Ivbh9Bz"
   },
   "source": [
    "8. Ghép cột số 0 vào đầu X_train"
   ]
  },
  {
   "cell_type": "markdown",
   "metadata": {
    "id": "6UJUlC94ikTs"
   },
   "source": [
    "9. Duyệt qua từng điểm dữ liệu của X_test:\n",
    "\n",
    "    9.1 Tính khoảng cách đến tất cả các điểm của X_train\n",
    "\n",
    "    9.2 Sắp xếp X_train theo thứ tự tăng dần của cột đầu tiên.\n",
    "\n",
    "    9.3 Lấy ra k theo thứ tự từ trên xuống của cột nhãn. (k là một số lẻ: 3, 7, 9)\n",
    "\n",
    "    9.4 Xác nhãn xuất hiện nhiều nhất\n",
    "    \n",
    "Lưu tất cả nhãn tìm được vào Lable."
   ]
  },
  {
   "cell_type": "markdown",
   "metadata": {
    "id": "TN4Jibz_j3mU"
   },
   "source": [
    "10. So sánh y_test và Lable để đánh giá tỉ lệ phần trăm đoán đúng."
   ]
  },
  {
   "cell_type": "markdown",
   "metadata": {
    "id": "1VWJzvi6kCKe"
   },
   "source": [
    "11. Sử dụng thư viện về KNN để train và test "
   ]
  },
  {
   "cell_type": "markdown",
   "metadata": {
    "id": "sxDf7fVkkNtO"
   },
   "source": [
    "12. Tổ chức các hàm đã viết thành lớp lấy tên là KNN_Ten_Ban"
   ]
  },
  {
   "cell_type": "markdown",
   "metadata": {
    "id": "66uxigGBh1r6"
   },
   "source": []
  }
 ],
 "metadata": {
  "colab": {
   "provenance": []
  },
  "kernelspec": {
   "display_name": "Python 3",
   "name": "python3"
  },
  "language_info": {
   "codemirror_mode": {
    "name": "ipython",
    "version": 3
   },
   "file_extension": ".py",
   "mimetype": "text/x-python",
   "name": "python",
   "nbconvert_exporter": "python",
   "pygments_lexer": "ipython3",
   "version": "3.12.3"
  }
 },
 "nbformat": 4,
 "nbformat_minor": 0
}
