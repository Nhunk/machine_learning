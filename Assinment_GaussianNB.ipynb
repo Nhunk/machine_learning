{
 "cells": [
  {
   "cell_type": "code",
   "execution_count": 11,
   "metadata": {
    "id": "nP07FVI5SMHk",
    "outputId": "d5e30b7f-c535-4c07-bd7e-d80feb1dc3c0"
   },
   "outputs": [],
   "source": [
    "import random\n",
    "import math\n",
    "import sys\n",
    "import pandas as pd\n",
    "import numpy as np\n",
    "from sklearn.model_selection import train_test_split\n",
    "\n",
    "\n",
    "#Hàm tính kỳ vòng. Kỳ vòng được tính bằng 1/n*sum(xi)\n",
    "def mean(numbers):\n",
    "    return sum(numbers) / float(len(numbers))\n",
    "\n",
    "#Hàm tính phương sai. Phương sai được tính bằng căn bậc hai của:\n",
    "# 1/(n-1)*sum(bình phương(xi-kỳ vọng))\n",
    "def standard_deviation(numbers):\n",
    "    avg = mean(numbers)\n",
    "    variance = sum([pow(x - avg, 2) for x in numbers]) / float(len(numbers) - 1)\n",
    "    return math.sqrt(variance)\n",
    "\n",
    "#Tính dộ lệch chuẩn và phương sai cho mỗi lớp\n",
    "\n",
    "# Tính xác suất phân phối Gaussian, dựa trên độ lệch chuẩn và phương sai \n",
    "def calculate_prob(x, mean, stdev):\n",
    "    exponent = math.exp(-((x - mean) ** 2 / (2 * stdev ** 2)))\n",
    "    return (1 / (math.sqrt(2 * math.pi) * stdev)) * exponent\n",
    "\n",
    "# Du doan vector thuoc phan lop nao\n",
    "def get_accuracy(value, y_test):\n",
    "    correct = 0\n",
    "    for i in range(len(value)):\n",
    "        if value[i] == y_test[i]:\n",
    "            correct += 1\n",
    "    return (correct / float(len(y_test)))\n",
    "   \n",
    "\n",
    "#Ham tinh va trả về label\n",
    "def calculate_label(dataset, x):\n",
    "    label = dataset[:, -1]  # Nhãn của dataset\n",
    "    label_values, label_counts = np.unique(label, return_counts=True)\n",
    "    value = np.zeros((len(label_values), len(x)))  # Ma trận chứa xác suất cho mỗi lớp\n",
    "\n",
    "    for i, Class in enumerate(label_values):\n",
    "        sub_data = dataset[dataset[:, -1] == Class]  # Lọc dữ liệu theo lớp\n",
    "        for j in range(len(x)):  # Duyệt qua các mẫu trong tập kiểm tra\n",
    "            s = 1\n",
    "            for k in range(x.shape[1]):  # Duyệt qua các đặc trưng của mỗi mẫu\n",
    "                # Tính xác suất Gaussian cho mỗi đặc trưng\n",
    "                s *= calculate_prob(x[j, k], mean(sub_data[:, k]), standard_deviation(sub_data[:, k]))\n",
    "            value[i][j] = s\n",
    "    return np.argmax(value, axis=0)\n"
   ]
  },
  {
   "cell_type": "markdown",
   "metadata": {
    "id": "cUtTE_4zTtVY"
   },
   "source": [
    "1. Viết hai hàm còn thiếu ở trên."
   ]
  },
  {
   "cell_type": "markdown",
   "metadata": {
    "id": "Toq-VbkKTzrW"
   },
   "source": [
    "2. Load bộ dữ liệu Data_IRIS1.csv. Tách thành bộ train và bộ test."
   ]
  },
  {
   "cell_type": "code",
   "execution_count": 12,
   "metadata": {},
   "outputs": [
    {
     "data": {
      "text/plain": [
       "<bound method NDFrame.head of      5.1  3.5  1.4  0.2  0\n",
       "0    4.9  3.0  1.4  0.2  0\n",
       "1    4.7  3.2  1.3  0.2  0\n",
       "2    4.6  3.1  1.5  0.2  0\n",
       "3    5.0  3.6  1.4  0.2  0\n",
       "4    5.4  3.9  1.7  0.4  0\n",
       "..   ...  ...  ...  ... ..\n",
       "144  6.7  3.0  5.2  2.3  2\n",
       "145  6.3  2.5  5.0  1.9  2\n",
       "146  6.5  3.0  5.2  2.0  2\n",
       "147  6.2  3.4  5.4  2.3  2\n",
       "148  5.9  3.0  5.1  1.8  2\n",
       "\n",
       "[149 rows x 5 columns]>"
      ]
     },
     "execution_count": 12,
     "metadata": {},
     "output_type": "execute_result"
    }
   ],
   "source": [
    "df = pd.read_csv('resources/Data_IRIS1.csv')\n",
    "df.head"
   ]
  },
  {
   "cell_type": "code",
   "execution_count": 13,
   "metadata": {},
   "outputs": [],
   "source": [
    "X = df.iloc[:, :-1].values\n",
    "y = df.iloc[:, -1].values\n",
    "X_train, X_test, y_train, y_test = train_test_split(X, y, test_size=0.2, random_state=0)"
   ]
  },
  {
   "cell_type": "markdown",
   "metadata": {
    "id": "lLaNXwHBUBSF"
   },
   "source": [
    "3. Gọi hàm calculate_label để dự đoán kết quả."
   ]
  },
  {
   "cell_type": "code",
   "execution_count": 14,
   "metadata": {},
   "outputs": [
    {
     "name": "stdout",
     "output_type": "stream",
     "text": [
      "[1 2 1 1 0 2 2 1 1 1 0 0 1 0 0 1 2 1 0 0 0 0 1 0 1 1 1 0 0 2]\n"
     ]
    }
   ],
   "source": [
    "training_set = np.column_stack((X_train, y_train))\n",
    "\n",
    "# Predict labels for the test set\n",
    "predictions = calculate_label(training_set, X_test)\n",
    "print(predictions)"
   ]
  },
  {
   "cell_type": "markdown",
   "metadata": {
    "id": "vXWjes8fUNFh"
   },
   "source": [
    "4. Đánh giá phần trăm đoán đúng."
   ]
  },
  {
   "cell_type": "code",
   "execution_count": 15,
   "metadata": {},
   "outputs": [
    {
     "name": "stdout",
     "output_type": "stream",
     "text": [
      "0.9\n"
     ]
    }
   ],
   "source": [
    "accuracy = get_accuracy(predictions, y_test)\n",
    "print(accuracy)"
   ]
  },
  {
   "cell_type": "markdown",
   "metadata": {
    "id": "fF6TT6bgUQ-8"
   },
   "source": [
    "5. Gọi thư viện có sẵn để so sánh kết quả."
   ]
  },
  {
   "cell_type": "code",
   "execution_count": 20,
   "metadata": {},
   "outputs": [
    {
     "name": "stdout",
     "output_type": "stream",
     "text": [
      "0.9\n"
     ]
    }
   ],
   "source": [
    "from sklearn.naive_bayes import GaussianNB  \n",
    "from sklearn.metrics import accuracy_score \n",
    "\n",
    "nb = GaussianNB()\n",
    "nb.fit(X_train, y_train)\n",
    "nb_predictions = nb.predict(X_test)\n",
    "\n",
    "nb_accuracy = accuracy_score(y_test, nb_predictions)\n",
    "print(nb_accuracy)"
   ]
  },
  {
   "cell_type": "code",
   "execution_count": null,
   "metadata": {},
   "outputs": [
    {
     "data": {
      "text/plain": [
       "array([1, 1, 1, 1, 2, 3])"
      ]
     },
     "execution_count": 23,
     "metadata": {},
     "output_type": "execute_result"
    }
   ],
   "source": [
    "import numpy as np\n",
    "a=[1,2,3]\n",
    "b=np.ones_like(a)\n",
    "c=np.concatenate((b,a),axis=0)\n"
   ]
  },
  {
   "cell_type": "code",
   "execution_count": 24,
   "metadata": {},
   "outputs": [
    {
     "data": {
      "text/plain": [
       "array(['A', 'B', 'C'], dtype='<U1')"
      ]
     },
     "execution_count": 24,
     "metadata": {},
     "output_type": "execute_result"
    }
   ],
   "source": [
    "import numpy as np \n",
    "A=np.array(['A','A','B','C','B','A','C']) \n",
    "values=np.unique(A)\n",
    "values"
   ]
  },
  {
   "cell_type": "code",
   "execution_count": 25,
   "metadata": {},
   "outputs": [
    {
     "data": {
      "text/plain": [
       "array([3, 2, 2], dtype=int64)"
      ]
     },
     "execution_count": 25,
     "metadata": {},
     "output_type": "execute_result"
    }
   ],
   "source": [
    "import numpy as np\n",
    "A=np.array(['A','A','B','C','B','A','C'])\n",
    "values,count=np.unique(A,return_counts=True)\n",
    "count"
   ]
  }
 ],
 "metadata": {
  "colab": {
   "collapsed_sections": [],
   "provenance": []
  },
  "kernelspec": {
   "display_name": "Python 3",
   "language": "python",
   "name": "python3"
  },
  "language_info": {
   "codemirror_mode": {
    "name": "ipython",
    "version": 3
   },
   "file_extension": ".py",
   "mimetype": "text/x-python",
   "name": "python",
   "nbconvert_exporter": "python",
   "pygments_lexer": "ipython3",
   "version": "3.12.3"
  }
 },
 "nbformat": 4,
 "nbformat_minor": 0
}
