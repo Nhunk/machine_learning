{
  "nbformat": 4,
  "nbformat_minor": 0,
  "metadata": {
    "colab": {
      "provenance": []
    },
    "kernelspec": {
      "name": "python3",
      "display_name": "Python 3"
    },
    "language_info": {
      "name": "python"
    }
  },
  "cells": [
    {
      "cell_type": "code",
      "execution_count": 58,
      "metadata": {
        "id": "rzJcoSfpnbXC"
      },
      "outputs": [],
      "source": [
        "import pandas as pd\n",
        "import numpy as np\n",
        "import matplotlib.pyplot as plt"
      ]
    },
    {
      "cell_type": "code",
      "source": [
        "X = np.array([[1,2],[2,7],[4,3],[5,5],[4,12],[11,13]])\n",
        "centers = np.array([[1,2],[2,4]])"
      ],
      "metadata": {
        "id": "0QIIzH2DqBt7"
      },
      "execution_count": 60,
      "outputs": []
    },
    {
      "cell_type": "code",
      "source": [
        "#Hàm tính khoảng cách từ tọa độ tâm đến các điểm\n",
        "def distance(X,centers):\n",
        "  #Tạo ma trận không để tính khoảng cách\n",
        "  d = np.zeros(shape=(X.shape[0], centers.shape[0]))\n",
        "  for j in range(centers.shape[0]):\n",
        "    for i in range(centers.shape[1]):\n",
        "      # Tính tổng các bình phương của hiệu từ tâm đến các phần tử của X\n",
        "      d[:,j]=d[:,j]+(X[:,i]-centers[j,i])**2\n",
        "      return np.sqrt(d)\n",
        "\n",
        "#Xác định tâm có tọa độ gần điểm nhất\n",
        "def get_labels(X,centers):\n",
        "  temp = distance(X,centers)\n",
        "  return np.argmin(temp,axis=1)\n",
        "\n",
        "#Biểu diễn tâm và các điểm ra đồ thị\n",
        "def present(X,label,n):\n",
        "  make_color = ['r','g','b','b']\n",
        "  for i in range(n):\n",
        "    data = X[i==label,:]\n",
        "    plt.scatter(data[:,0],data[:,1],marker='o', color=make_color[i])\n",
        "    plt.scatter(centers[i,0],centers[i,1],marker='s',color=make_color[i])\n",
        "\n",
        "#Cập nhật lại tâm mới\n",
        "def update_centers(X,label,n):\n",
        "  centers=np.zeros((n,X.shape[1]))\n",
        "  for k in range(n):\n",
        "    #Nhóm các điểm cùng tâm lại với nhau\n",
        "    Xk = X[label==k,:]\n",
        "    #Tính trung bình\n",
        "    centers[k,:]=np.mean(Xk,axis=0)\n",
        "  return centers\n",
        "\n",
        "def Kmean(X,centers):\n",
        "  while(1):\n",
        "    label = get_labels(X,centers)\n",
        "    present(X,label,2)\n",
        "    centers_new = update_centers(X,label,2)\n",
        "    if np.array_equal(centers,centers_new):\n",
        "      return label,centers_new\n",
        "    else:\n",
        "      centers = centers_new"
      ],
      "metadata": {
        "id": "Gm3QVLlZqJt5"
      },
      "execution_count": 61,
      "outputs": []
    },
    {
      "cell_type": "code",
      "source": [
        "label,centers=Kmean(X,centers)\n",
        "label=label.reshape(-1,1)\n",
        "X=np.hstack((X,label))\n",
        "X"
      ],
      "metadata": {
        "colab": {
          "base_uri": "https://localhost:8080/",
          "height": 534
        },
        "id": "VJFoC2cxtLAC",
        "outputId": "bfdab0f6-3276-4c43-949e-4c0e79ed37f0"
      },
      "execution_count": 62,
      "outputs": [
        {
          "output_type": "execute_result",
          "data": {
            "text/plain": [
              "array([[ 1,  2,  0],\n",
              "       [ 2,  7,  1],\n",
              "       [ 4,  3,  1],\n",
              "       [ 5,  5,  1],\n",
              "       [ 4, 12,  1],\n",
              "       [11, 13,  1]])"
            ]
          },
          "metadata": {},
          "execution_count": 62
        },
        {
          "output_type": "display_data",
          "data": {
            "text/plain": [
              "<Figure size 640x480 with 1 Axes>"
            ],
            "image/png": "[encoded data removed]"
          },
          "metadata": {}
        }
      ]
    },
    {
      "cell_type": "code",
      "source": [
        "#Lưu ma trận xuống file csv\n",
        "np.savetxt('matrix.csv',X,delimiter=',',fmt='%f')\n",
        "#fmt='%f' dùng để định dạng kiểu kí tự là số thực\n",
        "\n",
        "#Tải file xuống từ gg colab\n",
        "from google.colab import files\n",
        "files.download('matrix.csv')"
      ],
      "metadata": {
        "colab": {
          "base_uri": "https://localhost:8080/",
          "height": 17
        },
        "id": "w5j0nUV-0XmJ",
        "outputId": "b79f57f3-bfbf-4aa5-c712-df56df32aae9"
      },
      "execution_count": 63,
      "outputs": [
        {
          "output_type": "display_data",
          "data": {
            "text/plain": [
              "<IPython.core.display.Javascript object>"
            ],
            "application/javascript": [
              "\n",
              "    async function download(id, filename, size) {\n",
              "      if (!google.colab.kernel.accessAllowed) {\n",
              "        return;\n",
              "      }\n",
              "      const div = document.createElement('div');\n",
              "      const label = document.createElement('label');\n",
              "      label.textContent = `Downloading \"${filename}\": `;\n",
              "      div.appendChild(label);\n",
              "      const progress = document.createElement('progress');\n",
              "      progress.max = size;\n",
              "      div.appendChild(progress);\n",
              "      document.body.appendChild(div);\n",
              "\n",
              "      const buffers = [];\n",
              "      let downloaded = 0;\n",
              "\n",
              "      const channel = await google.colab.kernel.comms.open(id);\n",
              "      // Send a message to notify the kernel that we're ready.\n",
              "      channel.send({})\n",
              "\n",
              "      for await (const message of channel.messages) {\n",
              "        // Send a message to notify the kernel that we're ready.\n",
              "        channel.send({})\n",
              "        if (message.buffers) {\n",
              "          for (const buffer of message.buffers) {\n",
              "            buffers.push(buffer);\n",
              "            downloaded += buffer.byteLength;\n",
              "            progress.value = downloaded;\n",
              "          }\n",
              "        }\n",
              "      }\n",
              "      const blob = new Blob(buffers, {type: 'application/binary'});\n",
              "      const a = document.createElement('a');\n",
              "      a.href = window.URL.createObjectURL(blob);\n",
              "      a.download = filename;\n",
              "      div.appendChild(a);\n",
              "      a.click();\n",
              "      div.remove();\n",
              "    }\n",
              "  "
            ]
          },
          "metadata": {}
        },
        {
          "output_type": "display_data",
          "data": {
            "text/plain": [
              "<IPython.core.display.Javascript object>"
            ],
            "application/javascript": [
              "download(\"download_ca11f529-a1f1-431e-aa79-4dbb803acbcb\", \"matrix.csv\", 165)"
            ]
          },
          "metadata": {}
        }
      ]
    }
  ]
}