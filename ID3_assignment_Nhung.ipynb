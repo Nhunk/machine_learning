{
 "cells": [
  {
   "cell_type": "code",
   "execution_count": 5,
   "metadata": {
    "id": "iVBmYb5tkV7f"
   },
   "outputs": [],
   "source": [
    "import numpy as np\n",
    "import pandas as pd\n",
    "from pprint import pprint"
   ]
  },
  {
   "cell_type": "markdown",
   "metadata": {
    "id": "RiKV7teJ0OiT"
   },
   "source": [
    "1. Cho mảng dữ liệu sau: AA=[\"co\",\"co\",\"co\",\"khong\",\"khong\",\"khong\",\"khong\"]. Viết câu lệnh cho biết có bao nhiêu loại nhãn và số lần xuất hiện."
   ]
  },
  {
   "cell_type": "code",
   "execution_count": 7,
   "metadata": {
    "colab": {
     "base_uri": "https://localhost:8080/"
    },
    "id": "GTYZcVDTOEs-",
    "outputId": "673aa318-4c8a-4327-da38-b9cbebbb5403"
   },
   "outputs": [
    {
     "name": "stdout",
     "output_type": "stream",
     "text": [
      "['co' 'khong'] [3 4]\n"
     ]
    }
   ],
   "source": [
    "AA=np.array([\"co\",\"co\",\"co\",\"khong\",\"khong\",\"khong\",\"khong\"])\n",
    "elements, count = np.unique(AA,return_counts=True)\n",
    "print(elements,count)"
   ]
  },
  {
   "cell_type": "markdown",
   "metadata": {
    "id": "reYsQ9eq0m37"
   },
   "source": [
    "2. Viết câu lệnh tính Entropy cho mảng AA"
   ]
  },
  {
   "cell_type": "code",
   "execution_count": 8,
   "metadata": {
    "id": "zh7xOS0JOXoY"
   },
   "outputs": [],
   "source": [
    "# p0 = count[0]/len(AA) #len(AA) hoặc np.sum(count)\n",
    "# p1=count[1]/len(AA)\n",
    "# entropy = -p0*np.log2(p0)-p1*np.log2(p1)\n",
    "# print(entropy)\n"
   ]
  },
  {
   "cell_type": "code",
   "execution_count": 9,
   "metadata": {
    "colab": {
     "base_uri": "https://localhost:8080/"
    },
    "id": "Dgnqwc2vQcJ1",
    "outputId": "149fe58b-e19d-4986-c5dd-09289773f73a"
   },
   "outputs": [
    {
     "data": {
      "text/plain": [
       "0.9852281360342515"
      ]
     },
     "execution_count": 9,
     "metadata": {},
     "output_type": "execute_result"
    }
   ],
   "source": [
    "entropy=np.sum([(-count[i]/np.sum(count))*np.log2(count[i]/np.sum(count)) for i in range(len(elements))])\n",
    "entropy"
   ]
  },
  {
   "cell_type": "markdown",
   "metadata": {
    "id": "KulQ9j4w0wxh"
   },
   "source": [
    "3. Viết hàm Entropy với đầu vào là một vector nhãn đầu ra là Entropy (theo công thức ở phần lý thuyết)"
   ]
  },
  {
   "cell_type": "code",
   "execution_count": 10,
   "metadata": {
    "id": "DRRuXxbxT4UV"
   },
   "outputs": [],
   "source": [
    "def Entropy(y):\n",
    "    elements, count = np.unique(y,return_counts=True)\n",
    "    E=np.sum([(-count[i]/np.sum(count))*np.log2(count[i]/np.sum(count)) for i in range(len(elements))])\n",
    "    return E"
   ]
  },
  {
   "cell_type": "markdown",
   "metadata": {
    "id": "oxv3z42p1HJq"
   },
   "source": [
    "4. Viết câu lệnh đọc dữ liệu từ file weather_tv.csv. In dữ liệu để kiểm tra"
   ]
  },
  {
   "cell_type": "code",
   "execution_count": 11,
   "metadata": {
    "colab": {
     "base_uri": "https://localhost:8080/",
     "height": 488
    },
    "id": "CPjnAe61QB_s",
    "outputId": "3f9dca0f-0f40-4c88-b786-9839b0639077"
   },
   "outputs": [
    {
     "data": {
      "text/html": [
       "<div>\n",
       "<style scoped>\n",
       "    .dataframe tbody tr th:only-of-type {\n",
       "        vertical-align: middle;\n",
       "    }\n",
       "\n",
       "    .dataframe tbody tr th {\n",
       "        vertical-align: top;\n",
       "    }\n",
       "\n",
       "    .dataframe thead th {\n",
       "        text-align: right;\n",
       "    }\n",
       "</style>\n",
       "<table border=\"1\" class=\"dataframe\">\n",
       "  <thead>\n",
       "    <tr style=\"text-align: right;\">\n",
       "      <th></th>\n",
       "      <th>outlook</th>\n",
       "      <th>temperature</th>\n",
       "      <th>humidity</th>\n",
       "      <th>wind</th>\n",
       "      <th>class</th>\n",
       "    </tr>\n",
       "  </thead>\n",
       "  <tbody>\n",
       "    <tr>\n",
       "      <th>0</th>\n",
       "      <td>sunny</td>\n",
       "      <td>hot</td>\n",
       "      <td>high</td>\n",
       "      <td>weak</td>\n",
       "      <td>no</td>\n",
       "    </tr>\n",
       "    <tr>\n",
       "      <th>1</th>\n",
       "      <td>sunny</td>\n",
       "      <td>hot</td>\n",
       "      <td>high</td>\n",
       "      <td>strong</td>\n",
       "      <td>no</td>\n",
       "    </tr>\n",
       "    <tr>\n",
       "      <th>2</th>\n",
       "      <td>overcast</td>\n",
       "      <td>hot</td>\n",
       "      <td>high</td>\n",
       "      <td>weak</td>\n",
       "      <td>yes</td>\n",
       "    </tr>\n",
       "    <tr>\n",
       "      <th>3</th>\n",
       "      <td>rainy</td>\n",
       "      <td>mild</td>\n",
       "      <td>high</td>\n",
       "      <td>weak</td>\n",
       "      <td>yes</td>\n",
       "    </tr>\n",
       "    <tr>\n",
       "      <th>4</th>\n",
       "      <td>rainy</td>\n",
       "      <td>cool</td>\n",
       "      <td>normal</td>\n",
       "      <td>weak</td>\n",
       "      <td>yes</td>\n",
       "    </tr>\n",
       "    <tr>\n",
       "      <th>5</th>\n",
       "      <td>rainy</td>\n",
       "      <td>cool</td>\n",
       "      <td>normal</td>\n",
       "      <td>strong</td>\n",
       "      <td>no</td>\n",
       "    </tr>\n",
       "    <tr>\n",
       "      <th>6</th>\n",
       "      <td>overcast</td>\n",
       "      <td>cool</td>\n",
       "      <td>normal</td>\n",
       "      <td>strong</td>\n",
       "      <td>yes</td>\n",
       "    </tr>\n",
       "    <tr>\n",
       "      <th>7</th>\n",
       "      <td>sunny</td>\n",
       "      <td>mild</td>\n",
       "      <td>high</td>\n",
       "      <td>weak</td>\n",
       "      <td>no</td>\n",
       "    </tr>\n",
       "    <tr>\n",
       "      <th>8</th>\n",
       "      <td>sunny</td>\n",
       "      <td>cool</td>\n",
       "      <td>normal</td>\n",
       "      <td>weak</td>\n",
       "      <td>yes</td>\n",
       "    </tr>\n",
       "    <tr>\n",
       "      <th>9</th>\n",
       "      <td>rainy</td>\n",
       "      <td>mild</td>\n",
       "      <td>normal</td>\n",
       "      <td>weak</td>\n",
       "      <td>yes</td>\n",
       "    </tr>\n",
       "    <tr>\n",
       "      <th>10</th>\n",
       "      <td>sunny</td>\n",
       "      <td>mild</td>\n",
       "      <td>normal</td>\n",
       "      <td>strong</td>\n",
       "      <td>yes</td>\n",
       "    </tr>\n",
       "    <tr>\n",
       "      <th>11</th>\n",
       "      <td>overcast</td>\n",
       "      <td>mild</td>\n",
       "      <td>high</td>\n",
       "      <td>strong</td>\n",
       "      <td>yes</td>\n",
       "    </tr>\n",
       "    <tr>\n",
       "      <th>12</th>\n",
       "      <td>overcast</td>\n",
       "      <td>hot</td>\n",
       "      <td>normal</td>\n",
       "      <td>weak</td>\n",
       "      <td>yes</td>\n",
       "    </tr>\n",
       "    <tr>\n",
       "      <th>13</th>\n",
       "      <td>rainy</td>\n",
       "      <td>mild</td>\n",
       "      <td>high</td>\n",
       "      <td>strong</td>\n",
       "      <td>no</td>\n",
       "    </tr>\n",
       "  </tbody>\n",
       "</table>\n",
       "</div>"
      ],
      "text/plain": [
       "     outlook temperature humidity    wind class\n",
       "0      sunny         hot     high    weak    no\n",
       "1      sunny         hot     high  strong    no\n",
       "2   overcast         hot     high    weak   yes\n",
       "3      rainy        mild     high    weak   yes\n",
       "4      rainy        cool   normal    weak   yes\n",
       "5      rainy        cool   normal  strong    no\n",
       "6   overcast        cool   normal  strong   yes\n",
       "7      sunny        mild     high    weak    no\n",
       "8      sunny        cool   normal    weak   yes\n",
       "9      rainy        mild   normal    weak   yes\n",
       "10     sunny        mild   normal  strong   yes\n",
       "11  overcast        mild     high  strong   yes\n",
       "12  overcast         hot   normal    weak   yes\n",
       "13     rainy        mild     high  strong    no"
      ]
     },
     "execution_count": 11,
     "metadata": {},
     "output_type": "execute_result"
    }
   ],
   "source": [
    "df = pd.read_csv(r'F:\\study\\HK1_3_2425\\DS321_MachineLearning1\\resources\\weather1.csv',encoding='latin-1')\n",
    "df"
   ]
  },
  {
   "cell_type": "markdown",
   "metadata": {
    "id": "DQtcChAL1Ph8"
   },
   "source": [
    "6. Tách lấy cột nhãn của dữ liệu và tính Entropy của nó."
   ]
  },
  {
   "cell_type": "code",
   "execution_count": 12,
   "metadata": {
    "colab": {
     "base_uri": "https://localhost:8080/",
     "height": 523
    },
    "id": "wbCPSMwBViOq",
    "outputId": "036dcb62-fb26-4c6b-c525-c54d97e6f28d"
   },
   "outputs": [
    {
     "data": {
      "text/plain": [
       "0      no\n",
       "1      no\n",
       "2     yes\n",
       "3     yes\n",
       "4     yes\n",
       "5      no\n",
       "6     yes\n",
       "7      no\n",
       "8     yes\n",
       "9     yes\n",
       "10    yes\n",
       "11    yes\n",
       "12    yes\n",
       "13     no\n",
       "Name: class, dtype: object"
      ]
     },
     "execution_count": 12,
     "metadata": {},
     "output_type": "execute_result"
    }
   ],
   "source": [
    "df.iloc[:,-1]"
   ]
  },
  {
   "cell_type": "code",
   "execution_count": 13,
   "metadata": {
    "colab": {
     "base_uri": "https://localhost:8080/"
    },
    "id": "PexEAtZ8WVv7",
    "outputId": "b19341a6-d410-435f-e3a0-4df4f8359052"
   },
   "outputs": [
    {
     "data": {
      "text/plain": [
       "0.9402859586706311"
      ]
     },
     "execution_count": 13,
     "metadata": {},
     "output_type": "execute_result"
    }
   ],
   "source": [
    "en=Entropy(df.iloc[:,-1])\n",
    "en"
   ]
  },
  {
   "cell_type": "markdown",
   "metadata": {
    "id": "SZ8ySN1E1yTp"
   },
   "source": [
    "7. Viết câu lệnh lọc lấy dữ liệu với điều kiện Thời tiết là Nắng"
   ]
  },
  {
   "cell_type": "code",
   "execution_count": 14,
   "metadata": {
    "colab": {
     "base_uri": "https://localhost:8080/",
     "height": 241
    },
    "id": "CToq-16dXArF",
    "outputId": "748fe1c3-cf67-44a7-d274-756122eeaf7f"
   },
   "outputs": [
    {
     "data": {
      "text/plain": [
       "0      no\n",
       "1      no\n",
       "7      no\n",
       "8     yes\n",
       "10    yes\n",
       "Name: class, dtype: object"
      ]
     },
     "execution_count": 14,
     "metadata": {},
     "output_type": "execute_result"
    }
   ],
   "source": [
    "sun = df.where(df['outlook']=='sunny').dropna()['class']\n",
    "sun"
   ]
  },
  {
   "cell_type": "markdown",
   "metadata": {
    "id": "2-CXDvZm2F7L"
   },
   "source": [
    "8. Viết câu lệnh để lọc dữ liệu với độ ẩm là Cao"
   ]
  },
  {
   "cell_type": "code",
   "execution_count": 15,
   "metadata": {
    "colab": {
     "base_uri": "https://localhost:8080/",
     "height": 303
    },
    "id": "L7KSbku9YGmT",
    "outputId": "d740f073-dfe6-48d1-ceb3-b422c79fd60b"
   },
   "outputs": [
    {
     "data": {
      "text/plain": [
       "0      no\n",
       "1      no\n",
       "2     yes\n",
       "3     yes\n",
       "7      no\n",
       "11    yes\n",
       "13     no\n",
       "Name: class, dtype: object"
      ]
     },
     "execution_count": 15,
     "metadata": {},
     "output_type": "execute_result"
    }
   ],
   "source": [
    "hight=df[df['humidity']=='high']['class']\n",
    "hight"
   ]
  },
  {
   "cell_type": "code",
   "execution_count": 16,
   "metadata": {
    "colab": {
     "base_uri": "https://localhost:8080/"
    },
    "id": "DsrrEXIOYSN_",
    "outputId": "0fe56a6a-7638-4ebf-e853-e8d38358a75f"
   },
   "outputs": [
    {
     "data": {
      "text/plain": [
       "0.9852281360342515"
      ]
     },
     "execution_count": 16,
     "metadata": {},
     "output_type": "execute_result"
    }
   ],
   "source": [
    "en_hight=Entropy(hight)\n",
    "en_hight"
   ]
  },
  {
   "cell_type": "markdown",
   "metadata": {
    "id": "7tUjW8NH2ZfS"
   },
   "source": [
    "9. Viết câu lệnh tạo mảng chứa các loại thông tin có trong cột thời tiết (Nắng, mưa, nhiều mây) và mảng lưu số lượng"
   ]
  },
  {
   "cell_type": "code",
   "execution_count": 17,
   "metadata": {
    "colab": {
     "base_uri": "https://localhost:8080/"
    },
    "id": "-UDeyGdOYWK5",
    "outputId": "c7b003ab-92f7-4df0-c75e-bbe559f3b5f6"
   },
   "outputs": [
    {
     "name": "stdout",
     "output_type": "stream",
     "text": [
      "['overcast' 'rainy' 'sunny'] [4 5 5]\n"
     ]
    }
   ],
   "source": [
    "outlook,count_o = np.unique(df['outlook'],return_counts=True)\n",
    "print(outlook,count_o)"
   ]
  },
  {
   "cell_type": "code",
   "execution_count": 18,
   "metadata": {
    "colab": {
     "base_uri": "https://localhost:8080/"
    },
    "id": "Qf8l7mX0caIA",
    "outputId": "b8e58261-e25b-4cd3-b706-ca6d7790472a"
   },
   "outputs": [
    {
     "data": {
      "text/plain": [
       "0.6935361388961918"
      ]
     },
     "execution_count": 18,
     "metadata": {},
     "output_type": "execute_result"
    }
   ],
   "source": [
    "w=0\n",
    "# Cách 1:\n",
    "# for i in range(len(outlook)):\n",
    "#   w+=count_o[i]/np.sum(count_o)*Entropy(df.where(df['outlook']==outlook[i]).dropna()['class'])\n",
    "# Cách 2:\n",
    "w=np.sum([count_o[i]/np.sum(count_o)*Entropy(df.where(df['outlook']==outlook[i]).dropna()['class']) for i in range(len(outlook))])\n",
    "w"
   ]
  },
  {
   "cell_type": "markdown",
   "metadata": {
    "id": "Ev6MYqa73CCy"
   },
   "source": [
    "10. Viết lệnh tính Gain cho cột thời tiết."
   ]
  },
  {
   "cell_type": "code",
   "execution_count": 19,
   "metadata": {
    "colab": {
     "base_uri": "https://localhost:8080/"
    },
    "id": "3Rw5Znt_iFBy",
    "outputId": "3abbb4f6-23ec-49e5-a7e3-33b7755b504f"
   },
   "outputs": [
    {
     "data": {
      "text/plain": [
       "0.24674981977443933"
      ]
     },
     "execution_count": 19,
     "metadata": {},
     "output_type": "execute_result"
    }
   ],
   "source": [
    "gain_ol=Entropy(df.iloc[:,-1])-w\n",
    "gain_ol"
   ]
  },
  {
   "cell_type": "markdown",
   "metadata": {
    "id": "s710yPNS3Io5"
   },
   "source": [
    "11. Viết hàm tính Gain."
   ]
  },
  {
   "cell_type": "code",
   "execution_count": 20,
   "metadata": {
    "colab": {
     "base_uri": "https://localhost:8080/"
    },
    "id": "ZasrUzBHYXJo",
    "outputId": "954cdbd1-891f-437c-9c6a-5ce01464048e"
   },
   "outputs": [
    {
     "name": "stdout",
     "output_type": "stream",
     "text": [
      "Gain(class) = 0.9402859586706311\n",
      "Gain(outlook) = 0.24674981977443933\n"
     ]
    }
   ],
   "source": [
    "def gain(data,split_attribute_name,target_name=\"class\"):\n",
    "  total_entropy=Entropy(data[target_name])\n",
    "  vals,counts= np.unique(data[split_attribute_name],return_counts=True)\n",
    "  for i in range(len(vals)):\n",
    "    # sum+=counts[i]/np.sum(counts)*Entropy(data.where(data[split_attribute_name]==vals[i]).dropna()[target_name])\n",
    "    sum=np.sum([counts[i]/np.sum(counts)*Entropy(data.where(data[split_attribute_name]==vals[i]).dropna()[target_name]) for i in range(len(vals))])\n",
    "  information_gain = total_entropy-sum\n",
    "  return information_gain\n",
    "gain_c=gain(df,\"class\")\n",
    "print(f\"Gain(class) = {gain_c}\")\n",
    "gain_o=gain(df,\"outlook\")\n",
    "print(f\"Gain(outlook) = {gain_o}\")"
   ]
  },
  {
   "cell_type": "markdown",
   "metadata": {
    "id": "Gq4-x15p3S0V"
   },
   "source": [
    "12. Viết câu lệnh lọc ra các cột có trong bảng thời tiết, trừ cột nhãn"
   ]
  },
  {
   "cell_type": "code",
   "execution_count": 21,
   "metadata": {
    "colab": {
     "base_uri": "https://localhost:8080/"
    },
    "id": "5beh-gM1kV73",
    "outputId": "769002c2-a96b-4dff-f4a3-8ed86ef77bae"
   },
   "outputs": [
    {
     "data": {
      "text/plain": [
       "Index(['outlook', 'temperature', 'humidity', 'wind'], dtype='object')"
      ]
     },
     "execution_count": 21,
     "metadata": {},
     "output_type": "execute_result"
    }
   ],
   "source": [
    "features =df.columns[:-1]\n",
    "features"
   ]
  },
  {
   "cell_type": "markdown",
   "metadata": {
    "id": "56MLWtkT3ev5"
   },
   "source": [
    "13. Viết câu lệnh tính Gain cho từng cột trong bảng, lưu vào một mảng"
   ]
  },
  {
   "cell_type": "code",
   "execution_count": 22,
   "metadata": {
    "id": "t1ybM5etg4xZ"
   },
   "outputs": [
    {
     "data": {
      "text/plain": [
       "[0.24674981977443933,\n",
       " 0.02922256565895487,\n",
       " 0.15183550136234159,\n",
       " 0.04812703040826949]"
      ]
     },
     "execution_count": 22,
     "metadata": {},
     "output_type": "execute_result"
    }
   ],
   "source": [
    "# result = {}\n",
    "# for i in c_out:\n",
    "#     x=gain(df,i)\n",
    "#     result[i]=x\n",
    "# result\n",
    "item_values=[gain(df,feature) for feature in features]\n",
    "item_values"
   ]
  },
  {
   "cell_type": "markdown",
   "metadata": {
    "id": "pLbC2kIw3ssi"
   },
   "source": [
    "14. Viết câu lệnh tình cột có Gain lớn nhất. Lưu vào cây."
   ]
  },
  {
   "cell_type": "code",
   "execution_count": 23,
   "metadata": {
    "colab": {
     "base_uri": "https://localhost:8080/"
    },
    "id": "NLrb_tSMkV74",
    "outputId": "2942a0bd-e158-4499-8120-d05bb6c606f9"
   },
   "outputs": [
    {
     "data": {
      "text/plain": [
       "'outlook'"
      ]
     },
     "execution_count": 23,
     "metadata": {},
     "output_type": "execute_result"
    }
   ],
   "source": [
    "# max_gain=max(result,key=result.get)\n",
    "# decission_tree = {'node':max_gain,'next':{}}\n",
    "# decission_tree\n",
    "index = np.argmax(item_values)\n",
    "best_feature = features[index]\n",
    "best_feature"
   ]
  },
  {
   "cell_type": "code",
   "execution_count": 24,
   "metadata": {},
   "outputs": [
    {
     "data": {
      "text/plain": [
       "{'outlook': {}}"
      ]
     },
     "execution_count": 24,
     "metadata": {},
     "output_type": "execute_result"
    }
   ],
   "source": [
    "tree = {best_feature:{}}\n",
    "tree"
   ]
  },
  {
   "cell_type": "markdown",
   "metadata": {
    "id": "KQsGDHlh314x"
   },
   "source": [
    "15. Loại cột được chọn ra khỏi mảng."
   ]
  },
  {
   "cell_type": "code",
   "execution_count": 25,
   "metadata": {},
   "outputs": [
    {
     "data": {
      "text/plain": [
       "['temperature', 'humidity', 'wind']"
      ]
     },
     "execution_count": 25,
     "metadata": {},
     "output_type": "execute_result"
    }
   ],
   "source": [
    "features=[i for i in features if i != best_feature]\n",
    "features"
   ]
  },
  {
   "cell_type": "code",
   "execution_count": null,
   "metadata": {},
   "outputs": [
    {
     "data": {
      "text/plain": [
       "{'outlook': {'overcast': 'yes',\n",
       "  'rainy': {'wind': {'strong': 'no', 'weak': 'yes'}},\n",
       "  'sunny': {'humidity': {'high': 'no', 'normal': 'yes'}}}}"
      ]
     },
     "execution_count": 29,
     "metadata": {},
     "output_type": "execute_result"
    }
   ],
   "source": [
    "def ID3(data,originaldata,features,target_attribute_name=\"class\",parent_node_class = None):\n",
    "\n",
    "    if len(np.unique(data[target_attribute_name])) <= 1:\n",
    "        return np.unique(data[target_attribute_name])[0]\n",
    "\n",
    "    #If the dataset is empty, return the mode target feature value in the original dataset\n",
    "    elif len(data)==0:\n",
    "        return np.unique(originaldata[target_attribute_name])[np.argmax(np.unique(originaldata[target_attribute_name],return_counts=True)[1])]\n",
    "    elif len(features) ==0:\n",
    "        return parent_node_class\n",
    "    else:\n",
    "        #Set the default value for this node --> The mode target feature value of the current node\n",
    "        parent_node_class = np.unique(data[target_attribute_name])[np.argmax(np.unique(data[target_attribute_name],return_counts=True)[1])]\n",
    "        #Select the feature which best splits the dataset\n",
    "        item_values = [gain(data,feature,target_attribute_name) for feature in features] #Return the information gain values for the features in the dataset\n",
    "        best_feature_index = np.argmax(item_values)\n",
    "        best_feature = features[best_feature_index]\n",
    "\n",
    "        #Create the tree structure. The root gets the name of the feature (best_feature) with the maximum information\n",
    "        #gain in the first run\n",
    "        tree = {best_feature:{}}\n",
    "        #Remove the feature with the best inforamtion gain from the feature space\n",
    "        features = [i for i in features if i != best_feature]\n",
    "\n",
    "        #Grow a branch under the root node for each possible value of the root node feature\n",
    "\n",
    "        for value in np.unique(data[best_feature]):\n",
    "           # value = value\n",
    "            #Split the dataset along the value of the feature with the largest information gain and therwith create sub_datasets\n",
    "            sub_data = data.where(data[best_feature] == value).dropna()\n",
    "            #Call the ID3 algorithm for each of those sub_datasets with the new parameters --> Here the recursion comes in!\n",
    "            subtree = ID3(sub_data,df,features,target_attribute_name,parent_node_class)\n",
    "            #Add the sub tree, grown from the sub_dataset to the tree under the root node\n",
    "            tree[best_feature][value] = subtree\n",
    "        return(tree)\n",
    "\n",
    "ID3(df,df, df.columns[:-1])"
   ]
  }
 ],
 "metadata": {
  "colab": {
   "provenance": []
  },
  "kernelspec": {
   "display_name": "Python 3",
   "language": "python",
   "name": "python3"
  },
  "language_info": {
   "codemirror_mode": {
    "name": "ipython",
    "version": 3
   },
   "file_extension": ".py",
   "mimetype": "text/x-python",
   "name": "python",
   "nbconvert_exporter": "python",
   "pygments_lexer": "ipython3",
   "version": "3.12.3"
  }
 },
 "nbformat": 4,
 "nbformat_minor": 0
}
