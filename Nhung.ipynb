{
 "cells": [
  {
   "cell_type": "markdown",
   "metadata": {
    "id": "VlSB1-tCve0Y"
   },
   "source": [
    "Tạo ma trận A=[[1,4,2],\n",
    "              [2,3,4],\n",
    "              [7,5,1]]\n"
   ]
  },
  {
   "cell_type": "markdown",
   "metadata": {
    "id": "9koSP3J06XaJ"
   },
   "source": [
    "1.1.\tViết câu lệnh để tìm MAX theo cột của A. Kết qua như sau: [[7 5 4]]"
   ]
  },
  {
   "cell_type": "code",
   "execution_count": 1,
   "metadata": {
    "colab": {
     "base_uri": "https://localhost:8080/"
    },
    "id": "94Ko7bpG6bWZ",
    "outputId": "7951922a-4db8-4a79-e965-aa1d26919582"
   },
   "outputs": [
    {
     "data": {
      "text/plain": [
       "array([[1, 4, 2],\n",
       "       [2, 3, 4],\n",
       "       [7, 5, 1]])"
      ]
     },
     "execution_count": 1,
     "metadata": {},
     "output_type": "execute_result"
    }
   ],
   "source": [
    "import numpy as np\n",
    "a=np.array([[1,4,2], [2,3,4], [7,5,1]])\n",
    "a"
   ]
  },
  {
   "cell_type": "code",
   "execution_count": 2,
   "metadata": {
    "colab": {
     "base_uri": "https://localhost:8080/"
    },
    "id": "E_kLjtxDG4NV",
    "outputId": "0a853fd4-7bad-4fa8-9d64-f8342d4c1ff4"
   },
   "outputs": [
    {
     "data": {
      "text/plain": [
       "array([7, 5, 4])"
      ]
     },
     "execution_count": 2,
     "metadata": {},
     "output_type": "execute_result"
    }
   ],
   "source": [
    "Max=np.max(a,axis=0)\n",
    "Max"
   ]
  },
  {
   "cell_type": "markdown",
   "metadata": {
    "id": "fmJQP5y46bvJ"
   },
   "source": [
    "1.2.\tViết cây lệnh để tìm MIN theo cột của A. Kết quả là:"
   ]
  },
  {
   "cell_type": "code",
   "execution_count": 3,
   "metadata": {
    "colab": {
     "base_uri": "https://localhost:8080/"
    },
    "id": "trNQ-jjh6jWI",
    "outputId": "f760bb4a-ad9c-4cc4-a61d-5fe24b1151ab"
   },
   "outputs": [
    {
     "data": {
      "text/plain": [
       "array([1, 3, 1])"
      ]
     },
     "execution_count": 3,
     "metadata": {},
     "output_type": "execute_result"
    }
   ],
   "source": [
    "Min=np.min(a,axis=0)\n",
    "Min"
   ]
  },
  {
   "cell_type": "markdown",
   "metadata": {
    "id": "UTvT6nZR6sCI"
   },
   "source": [
    "1.3 Viết câu lệnh để in ra vị trí lớn nhất trên mỗi hàng"
   ]
  },
  {
   "cell_type": "code",
   "execution_count": 6,
   "metadata": {
    "colab": {
     "base_uri": "https://localhost:8080/"
    },
    "id": "tkNkgEnE6pDH",
    "outputId": "c4d57734-5605-46d9-f642-467a92cb6d25"
   },
   "outputs": [
    {
     "data": {
      "text/plain": [
       "array([1, 2, 0])"
      ]
     },
     "execution_count": 6,
     "metadata": {},
     "output_type": "execute_result"
    }
   ],
   "source": [
    "Max_line = np.argmax(a,axis=1)\n",
    "Max_line"
   ]
  },
  {
   "cell_type": "markdown",
   "metadata": {
    "id": "ncVd8BUu63Qf"
   },
   "source": [
    "1.4. In ra dòng thứ 2"
   ]
  },
  {
   "cell_type": "code",
   "execution_count": 7,
   "metadata": {
    "colab": {
     "base_uri": "https://localhost:8080/"
    },
    "id": "BFYYqFGBAve0",
    "outputId": "6b76c3db-7929-4782-9ddf-3192bd95241c"
   },
   "outputs": [
    {
     "data": {
      "text/plain": [
       "array([2, 3, 4])"
      ]
     },
     "execution_count": 7,
     "metadata": {},
     "output_type": "execute_result"
    }
   ],
   "source": [
    "np.array(a[1])"
   ]
  },
  {
   "cell_type": "markdown",
   "metadata": {
    "id": "pyOIIT5bBMkS"
   },
   "source": [
    "1.5. In ra cột thứ nhất và cột thứ nhì"
   ]
  },
  {
   "cell_type": "code",
   "execution_count": 8,
   "metadata": {
    "colab": {
     "base_uri": "https://localhost:8080/"
    },
    "id": "YOYzIF8eBGFe",
    "outputId": "4c6d536c-f1f8-470d-81a6-0c2211eb68ea"
   },
   "outputs": [
    {
     "data": {
      "text/plain": [
       "array([[1, 4],\n",
       "       [2, 3],\n",
       "       [7, 5]])"
      ]
     },
     "execution_count": 8,
     "metadata": {},
     "output_type": "execute_result"
    }
   ],
   "source": [
    "np.array(a[:,:2])"
   ]
  },
  {
   "cell_type": "markdown",
   "metadata": {
    "id": "u-0BFdVEBlKO"
   },
   "source": [
    "1.6. So sánh giá trị ở dòng 0 và dòng số 1"
   ]
  },
  {
   "cell_type": "code",
   "execution_count": null,
   "metadata": {
    "colab": {
     "base_uri": "https://localhost:8080/"
    },
    "id": "GHsD8wRkBsRz",
    "outputId": "60f5161c-2a75-4bee-e296-c04951949e1d"
   },
   "outputs": [
    {
     "data": {
      "text/plain": [
       "True"
      ]
     },
     "execution_count": 3,
     "metadata": {},
     "output_type": "execute_result"
    }
   ],
   "source": [
    "import numpy as np\n",
    "aa=np.array([1,2,3])\n",
    "bb=np.array([1,2,3])\n",
    "np.array_equal(aa,bb)"
   ]
  },
  {
   "cell_type": "code",
   "execution_count": 9,
   "metadata": {
    "colab": {
     "base_uri": "https://localhost:8080/"
    },
    "id": "VeQy13vHIdBk",
    "outputId": "438041c2-7bc3-48aa-e47c-efa8334478bf"
   },
   "outputs": [
    {
     "data": {
      "text/plain": [
       "False"
      ]
     },
     "execution_count": 9,
     "metadata": {},
     "output_type": "execute_result"
    }
   ],
   "source": [
    "np.array_equal(a[0],a[1])"
   ]
  },
  {
   "cell_type": "markdown",
   "metadata": {
    "id": "5imvDpPfBrey"
   },
   "source": [
    "1.7. Tính tổng theo mỗi hàng trong trong ma trận A"
   ]
  },
  {
   "cell_type": "code",
   "execution_count": 22,
   "metadata": {
    "colab": {
     "base_uri": "https://localhost:8080/"
    },
    "id": "sHCjs_9JGagb",
    "outputId": "0893323b-a468-45e6-c8f8-6a629306f0ee"
   },
   "outputs": [
    {
     "name": "stdout",
     "output_type": "stream",
     "text": [
      "[ 7  9 13]\n"
     ]
    }
   ],
   "source": [
    "tong = np.sum(a,axis=1)\n",
    "print(tong)"
   ]
  },
  {
   "cell_type": "markdown",
   "metadata": {
    "id": "fILuKERSF1OY"
   },
   "source": [
    "1.8. Viết câu lệnh hiển thị kích thước ma trận A"
   ]
  },
  {
   "cell_type": "code",
   "execution_count": 11,
   "metadata": {
    "colab": {
     "base_uri": "https://localhost:8080/"
    },
    "id": "4uDAYrwDI8Mf",
    "outputId": "882fd2d5-8593-480b-e0b9-c7b94bd8d012"
   },
   "outputs": [
    {
     "data": {
      "text/plain": [
       "(3, 3)"
      ]
     },
     "execution_count": 11,
     "metadata": {},
     "output_type": "execute_result"
    }
   ],
   "source": [
    "a.shape"
   ]
  },
  {
   "cell_type": "markdown",
   "metadata": {
    "id": "nqo7IOavI2rI"
   },
   "source": [
    "1.9. x = np.array([[1, 3], [4, 4], [4, 2]]) chuyển x qua ma trận có kích thước (2x3)"
   ]
  },
  {
   "cell_type": "code",
   "execution_count": 53,
   "metadata": {
    "colab": {
     "base_uri": "https://localhost:8080/"
    },
    "id": "igeV6uf-JN1P",
    "outputId": "cc282883-b095-43ba-ccfb-c10feadbeada"
   },
   "outputs": [
    {
     "name": "stdout",
     "output_type": "stream",
     "text": [
      "[[1 3]\n",
      " [4 4]\n",
      " [4 2]]\n"
     ]
    }
   ],
   "source": [
    "x = np.array([[1, 3], [4, 4], [4, 2]])\n",
    "print(x)"
   ]
  },
  {
   "cell_type": "code",
   "execution_count": 54,
   "metadata": {
    "colab": {
     "base_uri": "https://localhost:8080/"
    },
    "id": "aMsQnEFaJzc3",
    "outputId": "d178a13f-065a-4fc2-a9e2-a89004357704"
   },
   "outputs": [
    {
     "name": "stdout",
     "output_type": "stream",
     "text": [
      "[[1 3 4]\n",
      " [4 4 2]]\n"
     ]
    }
   ],
   "source": [
    "x_trans=np.reshape(x,(2,3))\n",
    "print(x_trans)"
   ]
  },
  {
   "cell_type": "markdown",
   "metadata": {
    "id": "geB7QGxFJMgv"
   },
   "source": [
    "1.10. Viết câu lệnh để nhân các phần tử của x và y tương ứng với nhau\n",
    "x=np.array([[1, 2, 3], [1, 3, 4]])\n",
    "y = np.array([[0, 3, 1], [4, 1, 1]])"
   ]
  },
  {
   "cell_type": "code",
   "execution_count": 19,
   "metadata": {
    "colab": {
     "base_uri": "https://localhost:8080/"
    },
    "id": "UBI99Y-wKWQQ",
    "outputId": "15d4f5b3-a66d-43ea-c4a9-539509d0dd64"
   },
   "outputs": [
    {
     "name": "stdout",
     "output_type": "stream",
     "text": [
      "[[0 6 3]\n",
      " [4 3 4]]\n"
     ]
    }
   ],
   "source": [
    "x=np.array([[1, 2, 3], [1, 3, 4]])\n",
    "y = np.array([[0, 3, 1], [4, 1, 1]])\n",
    "mul =np.multiply(x,y)\n",
    "print(mul)"
   ]
  },
  {
   "cell_type": "markdown",
   "metadata": {
    "id": "UnJdMJ4NKWmQ"
   },
   "source": [
    "1.11. Viết câu lệnh để nhân hai ma trận với nhau\n",
    "x = np.array([[1, 2], [1, 0]])\n",
    "y = np.array([[0, 3, 1], [1, 3, 0]])"
   ]
  },
  {
   "cell_type": "code",
   "execution_count": 25,
   "metadata": {
    "colab": {
     "base_uri": "https://localhost:8080/"
    },
    "id": "PQAbHru1K3Q3",
    "outputId": "0750f438-560d-4cdc-e9e1-1c99c70af642"
   },
   "outputs": [
    {
     "name": "stdout",
     "output_type": "stream",
     "text": [
      "Tích của hai ma trận là : \n",
      "[[2 9 1]\n",
      " [0 3 1]]\n"
     ]
    }
   ],
   "source": [
    "x = np.array([[1, 2], [1, 0]])\n",
    "y = np.array([[0, 3, 1], [1, 3, 0]])\n",
    "tich = np.dot(x,y)\n",
    "print(f\"Tích của hai ma trận là : \\n{tich}\")"
   ]
  },
  {
   "cell_type": "markdown",
   "metadata": {
    "id": "jF_VCa5jK3ou"
   },
   "source": [
    "1.12. Tạo ma trận zero có số chiều là 2x3"
   ]
  },
  {
   "cell_type": "code",
   "execution_count": 27,
   "metadata": {
    "colab": {
     "base_uri": "https://localhost:8080/"
    },
    "id": "FpiAAgd1hjOQ",
    "outputId": "71962322-39d9-4ba8-88de-7819e16f3058"
   },
   "outputs": [
    {
     "name": "stdout",
     "output_type": "stream",
     "text": [
      "[[0. 0. 0.]\n",
      " [0. 0. 0.]]\n"
     ]
    }
   ],
   "source": [
    "tt1=np.zeros((2,3))\n",
    "print(tt1)"
   ]
  },
  {
   "cell_type": "markdown",
   "metadata": {
    "id": "PTDG7rzQLFix"
   },
   "source": [
    "1.13. Tạo ma trận có số chiều 3x4 với các số ngẫu nhiên.\n",
    "Dùng hàm randn trong numpy"
   ]
  },
  {
   "cell_type": "code",
   "execution_count": 28,
   "metadata": {
    "colab": {
     "base_uri": "https://localhost:8080/"
    },
    "id": "Dm1AcFEFLTvX",
    "outputId": "c951143c-e77d-44f2-b295-508f84a27507"
   },
   "outputs": [
    {
     "name": "stdout",
     "output_type": "stream",
     "text": [
      "[[-0.13381464 -0.12029831 -1.5881022  -1.49075789]\n",
      " [-0.79583701  0.99315047  0.01192805  0.55294557]\n",
      " [-0.9755418   0.75782582  0.41608985 -0.7238905 ]]\n"
     ]
    }
   ],
   "source": [
    "nn=np.random.randn(3,4)\n",
    "print(nn)"
   ]
  },
  {
   "cell_type": "markdown",
   "metadata": {
    "id": "Q1oDt9YfLR1v"
   },
   "source": [
    "1.14. Tạo ra dãy số ngẫu nhiên không trùng lặp từ 1 đến n. Với n cho trước.\n",
    "Gợi ý: Dùng hàm permutation trong numpy"
   ]
  },
  {
   "cell_type": "code",
   "execution_count": 29,
   "metadata": {
    "colab": {
     "base_uri": "https://localhost:8080/"
    },
    "id": "NAeRmdpsNSua",
    "outputId": "2e6130d6-545f-4b5a-af86-f86e886759f7"
   },
   "outputs": [
    {
     "name": "stdout",
     "output_type": "stream",
     "text": [
      "[6 2 4 5 8 0 1 7 3 9]\n"
     ]
    }
   ],
   "source": [
    "mm = np.random.permutation(10)\n",
    "print(mm)"
   ]
  },
  {
   "cell_type": "markdown",
   "metadata": {
    "id": "iPOwxZhtSyk_"
   },
   "source": [
    "1.15. Viết câu lệnh để tạo ma trân 3 hàng 1 cột.\n",
    "Gợi ý: Dùng hàm ones."
   ]
  },
  {
   "cell_type": "code",
   "execution_count": 32,
   "metadata": {
    "colab": {
     "base_uri": "https://localhost:8080/"
    },
    "id": "IVfnP8ocTDjx",
    "outputId": "50fc7bfb-27a3-4310-ca48-b2f0abb5da07"
   },
   "outputs": [
    {
     "name": "stdout",
     "output_type": "stream",
     "text": [
      "[[1.]\n",
      " [1.]\n",
      " [1.]]\n"
     ]
    }
   ],
   "source": [
    "A = np.ones((3,1))\n",
    "print(A)"
   ]
  },
  {
   "cell_type": "markdown",
   "metadata": {
    "id": "S-xwGJ7mRrnG"
   },
   "source": [
    "1.16. Chèn thêm cột chứa các số 1 vào ma trận A ở trên.\n",
    "Gợi ý: Dùng hàm vstack hoặc dùng concatenate/hstack trong numpy"
   ]
  },
  {
   "cell_type": "code",
   "execution_count": 33,
   "metadata": {
    "colab": {
     "base_uri": "https://localhost:8080/"
    },
    "id": "5QTWIuA8MYL5",
    "outputId": "98b993f7-73d7-4b74-d752-32b84a6c23cd"
   },
   "outputs": [
    {
     "name": "stdout",
     "output_type": "stream",
     "text": [
      "[[1. 4. 2. 1.]\n",
      " [2. 3. 4. 1.]\n",
      " [7. 5. 1. 1.]]\n"
     ]
    }
   ],
   "source": [
    "chen = np.hstack((a,A))\n",
    "print(chen)"
   ]
  },
  {
   "cell_type": "markdown",
   "metadata": {
    "id": "R3sdj_3-3cZz"
   },
   "source": [
    "1.17. Các câu lệnh để tính tổng, tìm max các phần tử trên đường chéo chính của ma trận A.\n",
    "Gợi ý: Dùng diagonal"
   ]
  },
  {
   "cell_type": "code",
   "execution_count": 37,
   "metadata": {
    "colab": {
     "base_uri": "https://localhost:8080/"
    },
    "id": "UoPt_0FwlUmi",
    "outputId": "98aba668-3343-43a6-d581-267fbb875a27"
   },
   "outputs": [
    {
     "data": {
      "text/plain": [
       "5"
      ]
     },
     "execution_count": 37,
     "metadata": {},
     "output_type": "execute_result"
    }
   ],
   "source": [
    "np.sum(np.diagonal(a))"
   ]
  },
  {
   "cell_type": "code",
   "execution_count": 38,
   "metadata": {
    "colab": {
     "base_uri": "https://localhost:8080/"
    },
    "id": "PR7pRAXxNzVL",
    "outputId": "46261b7d-1a68-4b9a-faaa-dd7b3477a188"
   },
   "outputs": [
    {
     "data": {
      "text/plain": [
       "3"
      ]
     },
     "execution_count": 38,
     "metadata": {},
     "output_type": "execute_result"
    }
   ],
   "source": [
    "np.max(np.diagonal(a))"
   ]
  },
  {
   "cell_type": "markdown",
   "metadata": {
    "id": "gXa0iYCx4O7N"
   },
   "source": [
    "1.18. Cho vector sau: y_pred = np.array([0, 1, 0, 2, 1, 1, 0, 2, 1, 2]) Viết câu lệnh để cho biết có bao nhiêu giá trị và số lần xuất hiện của nó.\n",
    "Gợi ý: Dùng unique với return_counts=True\n"
   ]
  },
  {
   "cell_type": "code",
   "execution_count": 41,
   "metadata": {
    "colab": {
     "base_uri": "https://localhost:8080/"
    },
    "id": "-PFXqqosMZTe",
    "outputId": "0fced179-cf7e-498b-8662-fc65fa546d46"
   },
   "outputs": [
    {
     "name": "stdout",
     "output_type": "stream",
     "text": [
      "Vecto có các giá trị sau: \n",
      " [0 1 2]\n",
      "Số lần xuất hiện tương ứng của các giá trị: \n",
      " [3 4 3]\n"
     ]
    }
   ],
   "source": [
    "y_pred = np.array([0, 1, 0, 2, 1, 1, 0, 2, 1, 2])\n",
    "a,b=np.unique(y_pred,return_counts=True)\n",
    "print(f\"Vecto có các giá trị sau: \\n {a}\")\n",
    "print(f\"Số lần xuất hiện tương ứng của các giá trị: \\n {b}\")"
   ]
  },
  {
   "cell_type": "markdown",
   "metadata": {
    "id": "JjcVR6_641eM"
   },
   "source": [
    "1.19. Cho kết quả dự đoán và kết quả thực tế như sau:\n",
    "y_true = np.array([0, 0, 0, 0, 1, 1, 1, 2, 2, 2])\n",
    "y_pred = np.array([0, 1, 0, 2, 1, 1, 0, 2, 1, 2])\n",
    "Viết hàm đánh giá tỉ lệ phần trăm đoán đúng."
   ]
  },
  {
   "cell_type": "code",
   "execution_count": 49,
   "metadata": {
    "colab": {
     "base_uri": "https://localhost:8080/"
    },
    "id": "f9XeZ04TMZ0D",
    "outputId": "b5937271-23a9-4c76-80b6-c8d769cebb79"
   },
   "outputs": [
    {
     "name": "stdout",
     "output_type": "stream",
     "text": [
      "Tỉ lệ phần trăm đoán đúng là: 0.6\n"
     ]
    }
   ],
   "source": [
    "y_true = np.array([0, 0, 0, 0, 1, 1, 1, 2, 2, 2])\n",
    "y_pred = np.array([0, 1, 0, 2, 1, 1, 0, 2, 1, 2])\n",
    "kp = (y_true==y_pred).mean()\n",
    "print(f\"Tỉ lệ phần trăm đoán đúng là: {kp}\")"
   ]
  },
  {
   "cell_type": "markdown",
   "metadata": {
    "id": "GLxk_pOn5IYE"
   },
   "source": [
    "1.20. Cho kết quả dự đoán và kết quả thực tế như sau: y_true = np.array([0, 0, 0, 0, 1, 1, 1, 2, 2, 2]) y_pred = np.array([0, 1, 0, 2, 1, 1, 0, 2, 1, 2])\n",
    "Viết câu lệnh để tạo ra ma trận Confusion matrix để đánh giá mô hình\n",
    "Gợi ý: Dùng vòng lặp sau:\n",
    "  for n in range(y_true.shape[0]):\n",
    "        cm[y_true[n], y_pred[n]] += 1\n"
   ]
  },
  {
   "cell_type": "code",
   "execution_count": 4,
   "metadata": {
    "colab": {
     "base_uri": "https://localhost:8080/"
    },
    "id": "19ddVvNqMaUU",
    "outputId": "534ac8a0-2b73-4c45-e878-2abc8df30b67"
   },
   "outputs": [
    {
     "name": "stdout",
     "output_type": "stream",
     "text": [
      "Ma trận Confusion matrix là: \n",
      " [[2. 1. 1.]\n",
      " [1. 2. 0.]\n",
      " [0. 1. 2.]]\n"
     ]
    }
   ],
   "source": [
    "y_true = np.array([0, 0, 0, 0, 1, 1, 1, 2, 2, 2])\n",
    "y_pred = np.array([0, 1, 0, 2, 1, 1, 0, 2, 1, 2])\n",
    "cm = np.zeros((3,3))\n",
    "for n in range(y_true.shape[0]):\n",
    "  cm[y_true[n], y_pred[n]] += 1\n",
    "print(f\"Ma trận Confusion matrix là: \\n {cm}\")\n"
   ]
  }
 ],
 "metadata": {
  "colab": {
   "provenance": [],
   "toc_visible": true
  },
  "kernelspec": {
   "display_name": "Python 3",
   "name": "python3"
  },
  "language_info": {
   "codemirror_mode": {
    "name": "ipython",
    "version": 3
   },
   "file_extension": ".py",
   "mimetype": "text/x-python",
   "name": "python",
   "nbconvert_exporter": "python",
   "pygments_lexer": "ipython3",
   "version": "3.12.3"
  }
 },
 "nbformat": 4,
 "nbformat_minor": 0
}
