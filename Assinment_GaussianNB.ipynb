{
 "cells": [
  {
   "cell_type": "code",
   "execution_count": null,
   "metadata": {
    "id": "nP07FVI5SMHk",
    "outputId": "d5e30b7f-c535-4c07-bd7e-d80feb1dc3c0"
   },
   "outputs": [],
   "source": [
    "import random\n",
    "import math\n",
    "import sys\n",
    "import pandas as pd\n",
    "import numpy as np\n",
    "\n",
    "\n",
    "#Hàm tính kỳ vòng. Kỳ vòng được tính bằng 1/n*sum(xi)\n",
    "def mean(numbers):\n",
    "    return sum(numbers) / float(len(numbers))\n",
    "\n",
    "#Hàm tính phương sai. Phương sai được tính bằng căn bậc hai của:\n",
    "# 1/(n-1)*sum(bình phương(xi-kỳ vọng))\n",
    "def standard_deviation(numbers):\n",
    "    avg = mean(numbers)\n",
    "    variance = sum([pow(x - avg, 2) for x in numbers]) / float(len(numbers) - 1)\n",
    "    return math.sqrt(variance)\n",
    "\n",
    "#Tính dộ lệch chuẩn và phương sai cho mỗi lớp\n",
    "\n",
    "# Tính xác suất phân phối Gaussian, dựa trên độ lệch chuẩn và phương sai \n",
    "def calculate_prob(x, mean, stdev):\n",
    "    if stdev==0:\n",
    "        return 0\n",
    "    exponent = math.exp(-(math.pow(x - mean, 2) / (2 * math.pow(stdev, 2))))\n",
    "    return (1 / (math.sqrt(2 * math.pi) * stdev)) * exponent\n",
    "\n",
    "# Du doan vector thuoc phan lop nao\n",
    "def get_accuracy(value, y_test):\n",
    "    correct = 0\n",
    "    for i in range(len(value)):\n",
    "        if value[i] == y_test[i]:\n",
    "            correct += 1\n",
    "    return (correct / float(len(y_test)))\n",
    "   \n",
    "\n",
    "#Ham tinh va trả về label\n",
    "def calculate_label(dataset,x):\n",
    "    #x=np.array(x)\n",
    "    #value_class=len(np.unique(trainingSet[:,-1]))\n",
    "    label=dataset[:,-1]\n",
    "    label_values,label_counts=np.unique(label,return_counts=True)\n",
    "    value=np.zeros((len(np.unique(dataset[:,-1])),len(x)))\n",
    "    i=0\n",
    "    for Class in label_values:\n",
    "        sub_data=dataset[dataset[:,-1]==Class]\n",
    "        for j in range(len(x)):\n",
    "            s=1\n",
    "            #pro=[calculate_prob(x[j,k],mean(sub_data[:,k]),standard_deviation(sub_data[:,k])) for k in range(x.shape[1])]\n",
    "            for k in range(x.shape[1]):             \n",
    "                s*=calculate_prob(x[j,k],mean(sub_data[:,k]),\n",
    "                                  standard_deviation(sub_data[:,k])) \n",
    "            value[i][j]=s\n",
    "        i=i+1\n",
    "    return np.argmax(value,axis=0)\n"
   ]
  },
  {
   "cell_type": "markdown",
   "metadata": {
    "id": "cUtTE_4zTtVY"
   },
   "source": [
    "1. Viết hai hàm còn thiếu ở trên."
   ]
  },
  {
   "cell_type": "markdown",
   "metadata": {
    "id": "Toq-VbkKTzrW"
   },
   "source": [
    "2. Load bộ dữ liệu Data_IRIS1.csv. Tách thành bộ train và bộ test."
   ]
  },
  {
   "cell_type": "code",
   "execution_count": null,
   "metadata": {},
   "outputs": [],
   "source": []
  },
  {
   "cell_type": "markdown",
   "metadata": {
    "id": "lLaNXwHBUBSF"
   },
   "source": [
    "3. Gọi hàm calculate_label để dự đoán kết quả."
   ]
  },
  {
   "cell_type": "code",
   "execution_count": null,
   "metadata": {},
   "outputs": [],
   "source": []
  },
  {
   "cell_type": "markdown",
   "metadata": {
    "id": "vXWjes8fUNFh"
   },
   "source": [
    "4. Đánh giá phần trăm đoán đúng."
   ]
  },
  {
   "cell_type": "code",
   "execution_count": null,
   "metadata": {},
   "outputs": [],
   "source": []
  },
  {
   "cell_type": "markdown",
   "metadata": {
    "id": "fF6TT6bgUQ-8"
   },
   "source": [
    "5. Gọi thư viện có sẵn để so sánh kết quả."
   ]
  },
  {
   "cell_type": "code",
   "execution_count": null,
   "metadata": {},
   "outputs": [],
   "source": []
  }
 ],
 "metadata": {
  "colab": {
   "collapsed_sections": [],
   "provenance": []
  },
  "kernelspec": {
   "display_name": "Python 3",
   "language": "python",
   "name": "python3"
  },
  "language_info": {
   "codemirror_mode": {
    "name": "ipython",
    "version": 3
   },
   "file_extension": ".py",
   "mimetype": "text/x-python",
   "name": "python",
   "nbconvert_exporter": "python",
   "pygments_lexer": "ipython3",
   "version": "3.12.3"
  }
 },
 "nbformat": 4,
 "nbformat_minor": 0
}
